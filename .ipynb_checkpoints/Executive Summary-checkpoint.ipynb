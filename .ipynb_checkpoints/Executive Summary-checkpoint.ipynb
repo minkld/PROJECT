{
 "cells": [
  {
   "cell_type": "markdown",
   "metadata": {},
   "source": [
    "<h1 align=\"center\">Understanding the Correlates of Fatal Crashes in U.S. States</h1>\n",
    "<h2 align=\"center\">Executive Summary</h2>\n",
    "<h5 align=\"center\">Doug Minkler</h5>\n",
    "***"
   ]
  },
  {
   "cell_type": "code",
   "execution_count": 5,
   "metadata": {},
   "outputs": [
    {
     "data": {
      "text/html": [
       "<script>\n",
       "code_show=true; \n",
       "function code_toggle() {\n",
       " if (code_show){\n",
       " $('div.input').hide();\n",
       " } else {\n",
       " $('div.input').show();\n",
       " }\n",
       " code_show = !code_show\n",
       "} \n",
       "$( document ).ready(code_toggle);\n",
       "</script>\n",
       "<i>Note: the raw code for this IPython notebook is by default hidden for easier reading.\n",
       "To toggle on/off the raw code, click <a href=\"javascript:code_toggle()\">here</a>.</i>"
      ],
      "text/plain": [
       "<IPython.core.display.HTML object>"
      ]
     },
     "execution_count": 5,
     "metadata": {},
     "output_type": "execute_result"
    }
   ],
   "source": [
    "from IPython.display import HTML\n",
    "HTML('''<script>\n",
    "code_show=true; \n",
    "function code_toggle() {\n",
    " if (code_show){\n",
    " $('div.input').hide();\n",
    " } else {\n",
    " $('div.input').show();\n",
    " }\n",
    " code_show = !code_show\n",
    "} \n",
    "$( document ).ready(code_toggle);\n",
    "</script>\n",
    "<i>Note: the raw code for this IPython notebook is by default hidden for easier reading.\n",
    "To toggle on/off the raw code, click <a href=\"javascript:code_toggle()\">here</a>.</i>''')\n"
   ]
  },
  {
   "cell_type": "markdown",
   "metadata": {},
   "source": [
    "## Introduction"
   ]
  },
  {
   "cell_type": "markdown",
   "metadata": {},
   "source": [
    "Between 1994 and 2015, total automobile-related fatalities in the United States fell precipitously. Despite the great strides made in automobile safety and education during this time, both the rate and the total number of automobile-related fatalities in the country have begun to rise once more. While this study cannot reveal the causal mechanism behind this recent pivot,it does offer some insight as to the factors that are associated with higher fatality rates in U.S. states. By understanding how fatality rates may rise or fall with some factors, we may be better able to understand why fatality rates may experience fluctuations in the short and long-term. "
   ]
  },
  {
   "cell_type": "code",
   "execution_count": 6,
   "metadata": {},
   "outputs": [
    {
     "data": {
      "text/plain": [
       "State                         object\n",
       "ID                           float64\n",
       "1994                         float64\n",
       "1995                         float64\n",
       "1996                         float64\n",
       "1997                         float64\n",
       "1998                         float64\n",
       "1999                         float64\n",
       "2000                         float64\n",
       "2001                         float64\n",
       "2002                         float64\n",
       "2003                         float64\n",
       "2004                         float64\n",
       "2005                         float64\n",
       "2006                         float64\n",
       "2007                         float64\n",
       "2008                         float64\n",
       "2009                         float64\n",
       "2010                         float64\n",
       "2011                         float64\n",
       "2012                         float64\n",
       "2013                         float64\n",
       "2014                         float64\n",
       "2015                         float64\n",
       "Difference, 1994 -- 2015     float64\n",
       "1994.1                       float64\n",
       "1995.1                       float64\n",
       "1996.1                       float64\n",
       "1997.1                       float64\n",
       "1998.1                       float64\n",
       "1999.1                       float64\n",
       "2000.1                       float64\n",
       "2001.1                       float64\n",
       "2002.1                       float64\n",
       "2003.1                       float64\n",
       "2004.1                       float64\n",
       "2005.1                       float64\n",
       "2006.1                       float64\n",
       "2007.1                       float64\n",
       "2008.1                       float64\n",
       "2009.1                       float64\n",
       "2010.1                       float64\n",
       "2011.1                       float64\n",
       "2012.1                       float64\n",
       "2013.1                       float64\n",
       "2014.1                       float64\n",
       "2015.1                       float64\n",
       "Difference, 1994 -- 2015     float64\n",
       "Poor Roads                   float64\n",
       "dtype: object"
      ]
     },
     "execution_count": 6,
     "metadata": {},
     "output_type": "execute_result"
    }
   ],
   "source": [
    "#to get started, let's first grab the crash fatality data set\n",
    "import pandas as pd\n",
    "crashdatalink='https://github.com/minkld/PROJECT/raw/master/Fatalities%20and%20Fatality%20Rates.csv'\n",
    "fatalitydata=pd.read_csv(crashdatalink)\n",
    "#let's check to see what types of data we are working with\n",
    "fatalitydata.dtypes "
   ]
  },
  {
   "cell_type": "code",
   "execution_count": null,
   "metadata": {
    "collapsed": true
   },
   "outputs": [],
   "source": []
  }
 ],
 "metadata": {
  "kernelspec": {
   "display_name": "Python 3",
   "language": "python",
   "name": "python3"
  },
  "language_info": {
   "codemirror_mode": {
    "name": "ipython",
    "version": 3
   },
   "file_extension": ".py",
   "mimetype": "text/x-python",
   "name": "python",
   "nbconvert_exporter": "python",
   "pygments_lexer": "ipython3",
   "version": "3.6.3"
  }
 },
 "nbformat": 4,
 "nbformat_minor": 2
}
