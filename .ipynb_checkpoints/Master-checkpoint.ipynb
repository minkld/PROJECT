{
 "cells": [
  {
   "cell_type": "markdown",
   "metadata": {},
   "source": [
    "<h1 align=\"center\">Understanding the Correlates of Fatal Crashes in U.S. States</h1>\n",
    "<h2 align=\"center\">Master Document</h2>\n",
    "<h4 align=\"center\">Doug Minkler</h4>\n",
    "\n",
    "*****\n"
   ]
  },
  {
   "cell_type": "markdown",
   "metadata": {},
   "source": [
    "This project uses state-level fatal crash data produced through the [National Highway Traffic Safety Administration (NHTSA)](https://www-fars.nhtsa.dot.gov/States/StatesCrashesAndAllVictims.aspx). To help undertstand why some states may have higher crash fatality rates than others, state-level data on a variety of explanatory variables was collected. Road quality data was retrieved from the [American Society of Civil Engineers](https://www.infrastructurereportcard.org/infrastructure-super-map/) while ruralness, mean commute times, median age, and per capita income data were accessed through the [U.S. Census Bureau](https://factfinder.census.gov/faces/nav/jsf/pages/index.xhtml). This master document provides a step-by-step guide to reproduce the analysis used in this project. \n",
    "*******************"
   ]
  },
  {
   "cell_type": "markdown",
   "metadata": {},
   "source": [
    "## Table of Contents"
   ]
  },
  {
   "cell_type": "markdown",
   "metadata": {},
   "source": [
    "1. [Download and Clean the Data](#Download and Clean the Data)\n",
    "2. [Explore the Data](#Explore the Data)\n",
    "3. [Run a Regression](#Run a Regression) \n",
    "4. [Map the Data](#Map the Data)"
   ]
  },
  {
   "cell_type": "markdown",
   "metadata": {},
   "source": [
    "<a id='Download and Clean the Data'></a>"
   ]
  },
  {
   "cell_type": "markdown",
   "metadata": {},
   "source": [
    "## Step 1: Download and Clean the Data"
   ]
  },
  {
   "cell_type": "markdown",
   "metadata": {},
   "source": [
    "Before we can begin to investigate our research question of interest, we must first access the data sets that will be used in this analysis. After we have accessed these data sets, we will need to clean them before we ultimately consolidate data sets. "
   ]
  },
  {
   "cell_type": "markdown",
   "metadata": {},
   "source": [
    "### Starting with the crash fatality data set"
   ]
  },
  {
   "cell_type": "markdown",
   "metadata": {},
   "source": [
    "This data set provides us with our primary (i.e. independent) variables of interest: total crash fatalities and crash fatality rates expressed as a rate per 100 million vehicle miles travelled (VMT). "
   ]
  },
  {
   "cell_type": "code",
   "execution_count": 119,
   "metadata": {},
   "outputs": [
    {
     "data": {
      "text/plain": [
       "State                         object\n",
       "ID                           float64\n",
       "1994                         float64\n",
       "1995                         float64\n",
       "1996                         float64\n",
       "1997                         float64\n",
       "1998                         float64\n",
       "1999                         float64\n",
       "2000                         float64\n",
       "2001                         float64\n",
       "2002                         float64\n",
       "2003                         float64\n",
       "2004                         float64\n",
       "2005                         float64\n",
       "2006                         float64\n",
       "2007                         float64\n",
       "2008                         float64\n",
       "2009                         float64\n",
       "2010                         float64\n",
       "2011                         float64\n",
       "2012                         float64\n",
       "2013                         float64\n",
       "2014                         float64\n",
       "2015                         float64\n",
       "Difference, 1994 -- 2015     float64\n",
       "1994.1                       float64\n",
       "1995.1                       float64\n",
       "1996.1                       float64\n",
       "1997.1                       float64\n",
       "1998.1                       float64\n",
       "1999.1                       float64\n",
       "2000.1                       float64\n",
       "2001.1                       float64\n",
       "2002.1                       float64\n",
       "2003.1                       float64\n",
       "2004.1                       float64\n",
       "2005.1                       float64\n",
       "2006.1                       float64\n",
       "2007.1                       float64\n",
       "2008.1                       float64\n",
       "2009.1                       float64\n",
       "2010.1                       float64\n",
       "2011.1                       float64\n",
       "2012.1                       float64\n",
       "2013.1                       float64\n",
       "2014.1                       float64\n",
       "2015.1                       float64\n",
       "Difference, 1994 -- 2015     float64\n",
       "Poor Roads                   float64\n",
       "dtype: object"
      ]
     },
     "execution_count": 119,
     "metadata": {},
     "output_type": "execute_result"
    }
   ],
   "source": [
    "#to get started, let's first grab the crash fatality data set\n",
    "import pandas as pd\n",
    "crashdatalink='https://github.com/minkld/PROJECT/raw/master/Datasets/Fatalities%20and%20Fatality%20Rates.csv'\n",
    "fatalitydata=pd.read_csv(crashdatalink)\n",
    "#let's check to see what types of data we are working with\n",
    "fatalitydata.dtypes "
   ]
  },
  {
   "cell_type": "code",
   "execution_count": 24,
   "metadata": {},
   "outputs": [
    {
     "data": {
      "text/html": [
       "<div>\n",
       "<style>\n",
       "    .dataframe thead tr:only-child th {\n",
       "        text-align: right;\n",
       "    }\n",
       "\n",
       "    .dataframe thead th {\n",
       "        text-align: left;\n",
       "    }\n",
       "\n",
       "    .dataframe tbody tr th {\n",
       "        vertical-align: top;\n",
       "    }\n",
       "</style>\n",
       "<table border=\"1\" class=\"dataframe\">\n",
       "  <thead>\n",
       "    <tr style=\"text-align: right;\">\n",
       "      <th></th>\n",
       "      <th>State</th>\n",
       "      <th>2015</th>\n",
       "      <th>2015.1</th>\n",
       "      <th>Poor Roads</th>\n",
       "    </tr>\n",
       "  </thead>\n",
       "  <tbody>\n",
       "    <tr>\n",
       "      <th>0</th>\n",
       "      <td>NaN</td>\n",
       "      <td>NaN</td>\n",
       "      <td>NaN</td>\n",
       "      <td>NaN</td>\n",
       "    </tr>\n",
       "    <tr>\n",
       "      <th>1</th>\n",
       "      <td>Alabama</td>\n",
       "      <td>849.0</td>\n",
       "      <td>1.26</td>\n",
       "      <td>2.0</td>\n",
       "    </tr>\n",
       "    <tr>\n",
       "      <th>2</th>\n",
       "      <td>Alaska</td>\n",
       "      <td>65.0</td>\n",
       "      <td>1.29</td>\n",
       "      <td>21.0</td>\n",
       "    </tr>\n",
       "    <tr>\n",
       "      <th>3</th>\n",
       "      <td>Arizona</td>\n",
       "      <td>893.0</td>\n",
       "      <td>1.37</td>\n",
       "      <td>15.0</td>\n",
       "    </tr>\n",
       "    <tr>\n",
       "      <th>4</th>\n",
       "      <td>Arkansas</td>\n",
       "      <td>531.0</td>\n",
       "      <td>1.52</td>\n",
       "      <td>24.0</td>\n",
       "    </tr>\n",
       "  </tbody>\n",
       "</table>\n",
       "</div>"
      ],
      "text/plain": [
       "      State   2015  2015.1  Poor Roads\n",
       "0       NaN    NaN     NaN         NaN\n",
       "1   Alabama  849.0    1.26         2.0\n",
       "2    Alaska   65.0    1.29        21.0\n",
       "3   Arizona  893.0    1.37        15.0\n",
       "4  Arkansas  531.0    1.52        24.0"
      ]
     },
     "execution_count": 24,
     "metadata": {},
     "output_type": "execute_result"
    }
   ],
   "source": [
    "#these data types look correct, but we do not need all of these columns. Let's try to pare things down a bit to just the columns that we need\n",
    "fatalities=fatalitydata.iloc[:,[0,23,46,48]] ##using iloc function to reference columns\n",
    "fatalities.head() #making sure that we have successfully pared it down to just the columns we want. looks good"
   ]
  },
  {
   "cell_type": "code",
   "execution_count": 25,
   "metadata": {},
   "outputs": [
    {
     "data": {
      "text/plain": [
       "State          object\n",
       "2015          float64\n",
       "2015.1        float64\n",
       "Poor Roads    float64\n",
       "dtype: object"
      ]
     },
     "execution_count": 25,
     "metadata": {},
     "output_type": "execute_result"
    }
   ],
   "source": [
    "fatalities.dtypes #checking to make sure that the appropriate columns are numeric. Also looks good"
   ]
  },
  {
   "cell_type": "code",
   "execution_count": 27,
   "metadata": {},
   "outputs": [
    {
     "name": "stderr",
     "output_type": "stream",
     "text": [
      "C:\\Users\\dmink\\Anaconda3\\lib\\site-packages\\pandas\\core\\frame.py:2746: SettingWithCopyWarning: \n",
      "A value is trying to be set on a copy of a slice from a DataFrame\n",
      "\n",
      "See the caveats in the documentation: http://pandas.pydata.org/pandas-docs/stable/indexing.html#indexing-view-versus-copy\n",
      "  **kwargs)\n"
     ]
    },
    {
     "data": {
      "text/html": [
       "<div>\n",
       "<style>\n",
       "    .dataframe thead tr:only-child th {\n",
       "        text-align: right;\n",
       "    }\n",
       "\n",
       "    .dataframe thead th {\n",
       "        text-align: left;\n",
       "    }\n",
       "\n",
       "    .dataframe tbody tr th {\n",
       "        vertical-align: top;\n",
       "    }\n",
       "</style>\n",
       "<table border=\"1\" class=\"dataframe\">\n",
       "  <thead>\n",
       "    <tr style=\"text-align: right;\">\n",
       "      <th></th>\n",
       "      <th>State</th>\n",
       "      <th>Number of fatalities 2015</th>\n",
       "      <th>Fatality rate per 100 million VMT 2015</th>\n",
       "      <th>Poor Roads</th>\n",
       "    </tr>\n",
       "  </thead>\n",
       "  <tbody>\n",
       "    <tr>\n",
       "      <th>0</th>\n",
       "      <td>NaN</td>\n",
       "      <td>NaN</td>\n",
       "      <td>NaN</td>\n",
       "      <td>NaN</td>\n",
       "    </tr>\n",
       "    <tr>\n",
       "      <th>1</th>\n",
       "      <td>Alabama</td>\n",
       "      <td>849.0</td>\n",
       "      <td>1.26</td>\n",
       "      <td>2.0</td>\n",
       "    </tr>\n",
       "    <tr>\n",
       "      <th>2</th>\n",
       "      <td>Alaska</td>\n",
       "      <td>65.0</td>\n",
       "      <td>1.29</td>\n",
       "      <td>21.0</td>\n",
       "    </tr>\n",
       "    <tr>\n",
       "      <th>3</th>\n",
       "      <td>Arizona</td>\n",
       "      <td>893.0</td>\n",
       "      <td>1.37</td>\n",
       "      <td>15.0</td>\n",
       "    </tr>\n",
       "    <tr>\n",
       "      <th>4</th>\n",
       "      <td>Arkansas</td>\n",
       "      <td>531.0</td>\n",
       "      <td>1.52</td>\n",
       "      <td>24.0</td>\n",
       "    </tr>\n",
       "  </tbody>\n",
       "</table>\n",
       "</div>"
      ],
      "text/plain": [
       "      State  Number of fatalities 2015  \\\n",
       "0       NaN                        NaN   \n",
       "1   Alabama                      849.0   \n",
       "2    Alaska                       65.0   \n",
       "3   Arizona                      893.0   \n",
       "4  Arkansas                      531.0   \n",
       "\n",
       "   Fatality rate per 100 million VMT 2015  Poor Roads  \n",
       "0                                     NaN         NaN  \n",
       "1                                    1.26         2.0  \n",
       "2                                    1.29        21.0  \n",
       "3                                    1.37        15.0  \n",
       "4                                    1.52        24.0  "
      ]
     },
     "execution_count": 27,
     "metadata": {},
     "output_type": "execute_result"
    }
   ],
   "source": [
    "#the last order of business is to rename our column headers\n",
    "fatalities.rename(columns = {'2015':'Number of fatalities 2015', '2015.1': 'Fatality rate per 100 million VMT 2015'}, inplace = True)\n",
    "fatalities.head() "
   ]
  },
  {
   "cell_type": "markdown",
   "metadata": {},
   "source": [
    "despite the warning, renaming seems to have worked ok"
   ]
  },
  {
   "cell_type": "markdown",
   "metadata": {},
   "source": [
    "### Accessing the alcohol use data set"
   ]
  },
  {
   "cell_type": "markdown",
   "metadata": {},
   "source": [
    "This data set tells us what percentage of fatal accidents involved alcohol at varying concentrations. We are interested in those incidents in which the alcohol level of a victim was over the legal limit"
   ]
  },
  {
   "cell_type": "code",
   "execution_count": 120,
   "metadata": {},
   "outputs": [
    {
     "data": {
      "text/plain": [
       "State                                            object\n",
       "Highest Blood Alcohol Concentration in Crash     object\n",
       "Unnamed: 2                                       object\n",
       "Unnamed: 3                                       object\n",
       "Unnamed: 4                                       object\n",
       "Unnamed: 5                                       object\n",
       "Unnamed: 6                                       object\n",
       "Unnamed: 7                                       object\n",
       "Unnamed: 8                                       object\n",
       "Unnamed: 9                                       object\n",
       "Unnamed: 10                                      object\n",
       "Unnamed: 11                                     float64\n",
       "Unnamed: 12                                     float64\n",
       "dtype: object"
      ]
     },
     "execution_count": 120,
     "metadata": {},
     "output_type": "execute_result"
    }
   ],
   "source": [
    "alcoholdatalink='https://github.com/minkld/PROJECT/raw/master/Datasets/Alcohol.csv'\n",
    "alcoholdata=pd.read_csv(alcoholdatalink)\n",
    "alcoholdata.dtypes"
   ]
  },
  {
   "cell_type": "code",
   "execution_count": 29,
   "metadata": {},
   "outputs": [
    {
     "data": {
      "text/html": [
       "<div>\n",
       "<style>\n",
       "    .dataframe thead tr:only-child th {\n",
       "        text-align: right;\n",
       "    }\n",
       "\n",
       "    .dataframe thead th {\n",
       "        text-align: left;\n",
       "    }\n",
       "\n",
       "    .dataframe tbody tr th {\n",
       "        vertical-align: top;\n",
       "    }\n",
       "</style>\n",
       "<table border=\"1\" class=\"dataframe\">\n",
       "  <thead>\n",
       "    <tr style=\"text-align: right;\">\n",
       "      <th></th>\n",
       "      <th>State</th>\n",
       "      <th>Unnamed: 6</th>\n",
       "    </tr>\n",
       "  </thead>\n",
       "  <tbody>\n",
       "    <tr>\n",
       "      <th>0</th>\n",
       "      <td>NaN</td>\n",
       "      <td>NaN</td>\n",
       "    </tr>\n",
       "    <tr>\n",
       "      <th>1</th>\n",
       "      <td>NaN</td>\n",
       "      <td>Percent</td>\n",
       "    </tr>\n",
       "    <tr>\n",
       "      <th>2</th>\n",
       "      <td>NaN</td>\n",
       "      <td>NaN</td>\n",
       "    </tr>\n",
       "    <tr>\n",
       "      <th>3</th>\n",
       "      <td>Alabama</td>\n",
       "      <td>29</td>\n",
       "    </tr>\n",
       "    <tr>\n",
       "      <th>4</th>\n",
       "      <td>Alaska</td>\n",
       "      <td>36</td>\n",
       "    </tr>\n",
       "  </tbody>\n",
       "</table>\n",
       "</div>"
      ],
      "text/plain": [
       "     State Unnamed: 6\n",
       "0      NaN        NaN\n",
       "1      NaN    Percent\n",
       "2      NaN        NaN\n",
       "3  Alabama         29\n",
       "4   Alaska         36"
      ]
     },
     "execution_count": 29,
     "metadata": {},
     "output_type": "execute_result"
    }
   ],
   "source": [
    "alcohol=alcoholdata.iloc[:,[0,6]] #using iloc function once again to access columns\n",
    "alcohol.head() #the second column names is unintelligble; let's try to rename it to something more sensible"
   ]
  },
  {
   "cell_type": "code",
   "execution_count": 30,
   "metadata": {},
   "outputs": [
    {
     "name": "stderr",
     "output_type": "stream",
     "text": [
      "C:\\Users\\dmink\\Anaconda3\\lib\\site-packages\\pandas\\core\\frame.py:2746: SettingWithCopyWarning: \n",
      "A value is trying to be set on a copy of a slice from a DataFrame\n",
      "\n",
      "See the caveats in the documentation: http://pandas.pydata.org/pandas-docs/stable/indexing.html#indexing-view-versus-copy\n",
      "  **kwargs)\n"
     ]
    },
    {
     "data": {
      "text/html": [
       "<div>\n",
       "<style>\n",
       "    .dataframe thead tr:only-child th {\n",
       "        text-align: right;\n",
       "    }\n",
       "\n",
       "    .dataframe thead th {\n",
       "        text-align: left;\n",
       "    }\n",
       "\n",
       "    .dataframe tbody tr th {\n",
       "        vertical-align: top;\n",
       "    }\n",
       "</style>\n",
       "<table border=\"1\" class=\"dataframe\">\n",
       "  <thead>\n",
       "    <tr style=\"text-align: right;\">\n",
       "      <th></th>\n",
       "      <th>State</th>\n",
       "      <th>Percent of fatal accidents involving BAC above legal limit</th>\n",
       "    </tr>\n",
       "  </thead>\n",
       "  <tbody>\n",
       "    <tr>\n",
       "      <th>0</th>\n",
       "      <td>NaN</td>\n",
       "      <td>NaN</td>\n",
       "    </tr>\n",
       "    <tr>\n",
       "      <th>1</th>\n",
       "      <td>NaN</td>\n",
       "      <td>Percent</td>\n",
       "    </tr>\n",
       "    <tr>\n",
       "      <th>2</th>\n",
       "      <td>NaN</td>\n",
       "      <td>NaN</td>\n",
       "    </tr>\n",
       "    <tr>\n",
       "      <th>3</th>\n",
       "      <td>Alabama</td>\n",
       "      <td>29</td>\n",
       "    </tr>\n",
       "    <tr>\n",
       "      <th>4</th>\n",
       "      <td>Alaska</td>\n",
       "      <td>36</td>\n",
       "    </tr>\n",
       "  </tbody>\n",
       "</table>\n",
       "</div>"
      ],
      "text/plain": [
       "     State Percent of fatal accidents involving BAC above legal limit\n",
       "0      NaN                                                NaN        \n",
       "1      NaN                                            Percent        \n",
       "2      NaN                                                NaN        \n",
       "3  Alabama                                                 29        \n",
       "4   Alaska                                                 36        "
      ]
     },
     "execution_count": 30,
     "metadata": {},
     "output_type": "execute_result"
    }
   ],
   "source": [
    "alcohol.rename(columns = {'Unnamed: 6':'Percent of fatal accidents involving BAC above legal limit'}, inplace = True)\n",
    "alcohol.head() #looks like we have some missing values, this may cause some issues..."
   ]
  },
  {
   "cell_type": "code",
   "execution_count": 32,
   "metadata": {},
   "outputs": [
    {
     "data": {
      "text/plain": [
       "State                                                         object\n",
       "Percent of fatal accidents involving BAC above legal limit    object\n",
       "dtype: object"
      ]
     },
     "execution_count": 32,
     "metadata": {},
     "output_type": "execute_result"
    }
   ],
   "source": [
    "alcohol.dtypes #sure enough, the second column should have numeric values, not objects "
   ]
  },
  {
   "cell_type": "code",
   "execution_count": 33,
   "metadata": {},
   "outputs": [
    {
     "name": "stderr",
     "output_type": "stream",
     "text": [
      "C:\\Users\\dmink\\Anaconda3\\lib\\site-packages\\ipykernel_launcher.py:1: SettingWithCopyWarning: \n",
      "A value is trying to be set on a copy of a slice from a DataFrame\n",
      "\n",
      "See the caveats in the documentation: http://pandas.pydata.org/pandas-docs/stable/indexing.html#indexing-view-versus-copy\n",
      "  \"\"\"Entry point for launching an IPython kernel.\n",
      "C:\\Users\\dmink\\Anaconda3\\lib\\site-packages\\pandas\\core\\frame.py:2352: SettingWithCopyWarning: \n",
      "A value is trying to be set on a copy of a slice from a DataFrame.\n",
      "Try using .loc[row_indexer,col_indexer] = value instead\n",
      "\n",
      "See the caveats in the documentation: http://pandas.pydata.org/pandas-docs/stable/indexing.html#indexing-view-versus-copy\n",
      "  self[k1] = value[k2]\n"
     ]
    },
    {
     "data": {
      "text/plain": [
       "State                                                          object\n",
       "Percent of fatal accidents involving BAC above legal limit    float64\n",
       "dtype: object"
      ]
     },
     "execution_count": 33,
     "metadata": {},
     "output_type": "execute_result"
    }
   ],
   "source": [
    "alcohol.drop(alcohol.index[[0,1,2]], inplace = True) #let's start by getting rid of the missing values\n",
    "alcohol[['Percent of fatal accidents involving BAC above legal limit']]=alcohol[['Percent of fatal accidents involving BAC above legal limit']].astype('float') #now let's convert the data type from object to float\n",
    "alcohol.dtypes #better"
   ]
  },
  {
   "cell_type": "markdown",
   "metadata": {},
   "source": [
    "### Getting the commuting data set"
   ]
  },
  {
   "cell_type": "markdown",
   "metadata": {},
   "source": [
    "This data set contains information on mean commuting times to work in each state"
   ]
  },
  {
   "cell_type": "code",
   "execution_count": 121,
   "metadata": {},
   "outputs": [
    {
     "data": {
      "text/plain": [
       "GEO.id                object\n",
       "GEO.id2                int64\n",
       "GEO.display-label     object\n",
       "HC01_EST_VC01          int64\n",
       "HC01_MOE_VC01          int64\n",
       "HC02_EST_VC01          int64\n",
       "HC02_MOE_VC01          int64\n",
       "HC03_EST_VC01          int64\n",
       "HC03_MOE_VC01          int64\n",
       "HC04_EST_VC01          int64\n",
       "HC04_MOE_VC01          int64\n",
       "HC01_EST_VC03        float64\n",
       "HC01_MOE_VC03        float64\n",
       "HC02_EST_VC03        float64\n",
       "HC02_MOE_VC03        float64\n",
       "HC03_EST_VC03        float64\n",
       "HC03_MOE_VC03        float64\n",
       "HC04_EST_VC03        float64\n",
       "HC04_MOE_VC03        float64\n",
       "HC01_EST_VC04        float64\n",
       "HC01_MOE_VC04        float64\n",
       "HC02_EST_VC04        float64\n",
       "HC02_MOE_VC04        float64\n",
       "HC03_EST_VC04        float64\n",
       "HC03_MOE_VC04        float64\n",
       "HC04_EST_VC04        float64\n",
       "HC04_MOE_VC04        float64\n",
       "HC01_EST_VC05        float64\n",
       "HC01_MOE_VC05        float64\n",
       "HC02_EST_VC05        float64\n",
       "                      ...   \n",
       "HC02_EST_VC132       float64\n",
       "HC02_MOE_VC132       float64\n",
       "HC03_EST_VC132       float64\n",
       "HC03_MOE_VC132       float64\n",
       "HC04_EST_VC132       float64\n",
       "HC04_MOE_VC132       float64\n",
       "HC01_EST_VC133       float64\n",
       "HC01_MOE_VC133       float64\n",
       "HC02_EST_VC133       float64\n",
       "HC02_MOE_VC133       float64\n",
       "HC03_EST_VC133       float64\n",
       "HC03_MOE_VC133       float64\n",
       "HC04_EST_VC133       float64\n",
       "HC04_MOE_VC133       float64\n",
       "HC01_EST_VC134       float64\n",
       "HC01_MOE_VC134       float64\n",
       "HC02_EST_VC134       float64\n",
       "HC02_MOE_VC134       float64\n",
       "HC03_EST_VC134       float64\n",
       "HC03_MOE_VC134       float64\n",
       "HC04_EST_VC134       float64\n",
       "HC04_MOE_VC134       float64\n",
       "HC01_EST_VC135       float64\n",
       "HC01_MOE_VC135       float64\n",
       "HC02_EST_VC135       float64\n",
       "HC02_MOE_VC135       float64\n",
       "HC03_EST_VC135       float64\n",
       "HC03_MOE_VC135       float64\n",
       "HC04_EST_VC135       float64\n",
       "HC04_MOE_VC135       float64\n",
       "Length: 811, dtype: object"
      ]
     },
     "execution_count": 121,
     "metadata": {},
     "output_type": "execute_result"
    }
   ],
   "source": [
    "#grabbing dataset for mean commuting time for each state\n",
    "commutetimedatalink='https://github.com/minkld/PROJECT/raw/master/Datasets/Mean%20Commute%20Time.csv'\n",
    "commutetimedata=pd.read_csv(commutetimedatalink)\n",
    "commutetimedata.dtypes"
   ]
  },
  {
   "cell_type": "code",
   "execution_count": 35,
   "metadata": {},
   "outputs": [
    {
     "name": "stderr",
     "output_type": "stream",
     "text": [
      "C:\\Users\\dmink\\Anaconda3\\lib\\site-packages\\pandas\\core\\frame.py:2746: SettingWithCopyWarning: \n",
      "A value is trying to be set on a copy of a slice from a DataFrame\n",
      "\n",
      "See the caveats in the documentation: http://pandas.pydata.org/pandas-docs/stable/indexing.html#indexing-view-versus-copy\n",
      "  **kwargs)\n"
     ]
    },
    {
     "data": {
      "text/plain": [
       "State                 object\n",
       "Mean commute time    float64\n",
       "dtype: object"
      ]
     },
     "execution_count": 35,
     "metadata": {},
     "output_type": "execute_result"
    }
   ],
   "source": [
    "commutetime=commutetimedata[['GEO.display-label','HC01_EST_VC118']] #instead of using iloc function, let's reference our columns differently this time by referring to the name of the columns we want; in this case, we want the state name and the mean commuting time in each state\n",
    "commutetime.dtypes #looks like the datatypes are correct\n",
    "commutetime.rename(columns = {'GEO.display-label':'State', 'HC01_EST_VC118':'Mean commute time'}, inplace = True)\n",
    "commutetime.dtypes #these labels make more sense"
   ]
  },
  {
   "cell_type": "markdown",
   "metadata": {},
   "source": [
    "### Ruralness data set"
   ]
  },
  {
   "cell_type": "markdown",
   "metadata": {},
   "source": [
    "This data set contains information on the total population of each state living in urban or rural areas. To get a measure of ruralness will require calculating the rate or percentage of the total population living in rural areas. "
   ]
  },
  {
   "cell_type": "code",
   "execution_count": 122,
   "metadata": {},
   "outputs": [
    {
     "data": {
      "text/plain": [
       "GEO.id               object\n",
       "GEO.id2              object\n",
       "GEO.display-label    object\n",
       "D001                 object\n",
       "D002                 object\n",
       "D003                 object\n",
       "D004                 object\n",
       "D005                 object\n",
       "D006                 object\n",
       "dtype: object"
      ]
     },
     "execution_count": 122,
     "metadata": {},
     "output_type": "execute_result"
    }
   ],
   "source": [
    "#grabbing data set for ruralness by state\n",
    "ruralnessdatalink='https://github.com/minkld/PROJECT/raw/master/Datasets/Ruralness.csv'\n",
    "ruraldata=pd.read_csv(ruralnessdatalink)\n",
    "ruraldata.dtypes"
   ]
  },
  {
   "cell_type": "code",
   "execution_count": 37,
   "metadata": {},
   "outputs": [
    {
     "data": {
      "text/html": [
       "<div>\n",
       "<style>\n",
       "    .dataframe thead tr:only-child th {\n",
       "        text-align: right;\n",
       "    }\n",
       "\n",
       "    .dataframe thead th {\n",
       "        text-align: left;\n",
       "    }\n",
       "\n",
       "    .dataframe tbody tr th {\n",
       "        vertical-align: top;\n",
       "    }\n",
       "</style>\n",
       "<table border=\"1\" class=\"dataframe\">\n",
       "  <thead>\n",
       "    <tr style=\"text-align: right;\">\n",
       "      <th></th>\n",
       "      <th>GEO.display-label</th>\n",
       "      <th>D001</th>\n",
       "      <th>D005</th>\n",
       "    </tr>\n",
       "  </thead>\n",
       "  <tbody>\n",
       "    <tr>\n",
       "      <th>0</th>\n",
       "      <td>Geography</td>\n",
       "      <td>Total:</td>\n",
       "      <td>Rural</td>\n",
       "    </tr>\n",
       "    <tr>\n",
       "      <th>1</th>\n",
       "      <td>Alabama</td>\n",
       "      <td>4779736</td>\n",
       "      <td>1957932</td>\n",
       "    </tr>\n",
       "    <tr>\n",
       "      <th>2</th>\n",
       "      <td>Alaska</td>\n",
       "      <td>710231</td>\n",
       "      <td>241338</td>\n",
       "    </tr>\n",
       "    <tr>\n",
       "      <th>3</th>\n",
       "      <td>Arizona</td>\n",
       "      <td>6392017</td>\n",
       "      <td>651358</td>\n",
       "    </tr>\n",
       "    <tr>\n",
       "      <th>4</th>\n",
       "      <td>Arkansas</td>\n",
       "      <td>2915918</td>\n",
       "      <td>1278329</td>\n",
       "    </tr>\n",
       "  </tbody>\n",
       "</table>\n",
       "</div>"
      ],
      "text/plain": [
       "  GEO.display-label     D001     D005\n",
       "0         Geography   Total:    Rural\n",
       "1           Alabama  4779736  1957932\n",
       "2            Alaska   710231   241338\n",
       "3           Arizona  6392017   651358\n",
       "4          Arkansas  2915918  1278329"
      ]
     },
     "execution_count": 37,
     "metadata": {},
     "output_type": "execute_result"
    }
   ],
   "source": [
    "#we are only interested in the third, fourth, and eighth columns, so let's reduce the dataframe to just those three columns. In truth, we are interested in a column that does not exist yet, but let's come to that when its time\n",
    "ruralness=ruraldata.iloc[:,[2,3,7]] #since we referred to these columns by their numeric ordering, let's reference them by the same ordering\n",
    "ruralness.head() "
   ]
  },
  {
   "cell_type": "code",
   "execution_count": 38,
   "metadata": {},
   "outputs": [
    {
     "name": "stderr",
     "output_type": "stream",
     "text": [
      "C:\\Users\\dmink\\Anaconda3\\lib\\site-packages\\ipykernel_launcher.py:2: SettingWithCopyWarning: \n",
      "A value is trying to be set on a copy of a slice from a DataFrame\n",
      "\n",
      "See the caveats in the documentation: http://pandas.pydata.org/pandas-docs/stable/indexing.html#indexing-view-versus-copy\n",
      "  \n"
     ]
    },
    {
     "data": {
      "text/html": [
       "<div>\n",
       "<style>\n",
       "    .dataframe thead tr:only-child th {\n",
       "        text-align: right;\n",
       "    }\n",
       "\n",
       "    .dataframe thead th {\n",
       "        text-align: left;\n",
       "    }\n",
       "\n",
       "    .dataframe tbody tr th {\n",
       "        vertical-align: top;\n",
       "    }\n",
       "</style>\n",
       "<table border=\"1\" class=\"dataframe\">\n",
       "  <thead>\n",
       "    <tr style=\"text-align: right;\">\n",
       "      <th></th>\n",
       "      <th>GEO.display-label</th>\n",
       "      <th>D001</th>\n",
       "      <th>D005</th>\n",
       "    </tr>\n",
       "  </thead>\n",
       "  <tbody>\n",
       "    <tr>\n",
       "      <th>1</th>\n",
       "      <td>Alabama</td>\n",
       "      <td>4779736</td>\n",
       "      <td>1957932</td>\n",
       "    </tr>\n",
       "    <tr>\n",
       "      <th>2</th>\n",
       "      <td>Alaska</td>\n",
       "      <td>710231</td>\n",
       "      <td>241338</td>\n",
       "    </tr>\n",
       "    <tr>\n",
       "      <th>3</th>\n",
       "      <td>Arizona</td>\n",
       "      <td>6392017</td>\n",
       "      <td>651358</td>\n",
       "    </tr>\n",
       "    <tr>\n",
       "      <th>4</th>\n",
       "      <td>Arkansas</td>\n",
       "      <td>2915918</td>\n",
       "      <td>1278329</td>\n",
       "    </tr>\n",
       "    <tr>\n",
       "      <th>5</th>\n",
       "      <td>California</td>\n",
       "      <td>37253956</td>\n",
       "      <td>1880350</td>\n",
       "    </tr>\n",
       "  </tbody>\n",
       "</table>\n",
       "</div>"
      ],
      "text/plain": [
       "  GEO.display-label      D001     D005\n",
       "1           Alabama   4779736  1957932\n",
       "2            Alaska    710231   241338\n",
       "3           Arizona   6392017   651358\n",
       "4          Arkansas   2915918  1278329\n",
       "5        California  37253956  1880350"
      ]
     },
     "execution_count": 38,
     "metadata": {},
     "output_type": "execute_result"
    }
   ],
   "source": [
    "#looks better, but we still have a couple of problems. First, let's remove the first row, since it communicates the same information as we want our column names to\n",
    "ruralness.drop(ruralness.index[[0]], inplace = True)\n",
    "ruralness.head() #good"
   ]
  },
  {
   "cell_type": "code",
   "execution_count": 39,
   "metadata": {},
   "outputs": [
    {
     "name": "stderr",
     "output_type": "stream",
     "text": [
      "C:\\Users\\dmink\\Anaconda3\\lib\\site-packages\\pandas\\core\\frame.py:2746: SettingWithCopyWarning: \n",
      "A value is trying to be set on a copy of a slice from a DataFrame\n",
      "\n",
      "See the caveats in the documentation: http://pandas.pydata.org/pandas-docs/stable/indexing.html#indexing-view-versus-copy\n",
      "  **kwargs)\n"
     ]
    },
    {
     "data": {
      "text/plain": [
       "State               object\n",
       "Total Population    object\n",
       "Rural Population    object\n",
       "dtype: object"
      ]
     },
     "execution_count": 39,
     "metadata": {},
     "output_type": "execute_result"
    }
   ],
   "source": [
    "#now  let's rename our columns to reflect the information that's contained in them\n",
    "ruralness.rename(columns = {'GEO.display-label':'State','D001':'Total Population','D005':'Rural Population'}, inplace = True)\n",
    "ruralness.head() #good\n",
    "ruralness.dtypes #checking to see if we are ready to proceed "
   ]
  },
  {
   "cell_type": "code",
   "execution_count": 40,
   "metadata": {},
   "outputs": [
    {
     "name": "stderr",
     "output_type": "stream",
     "text": [
      "C:\\Users\\dmink\\Anaconda3\\lib\\site-packages\\pandas\\core\\frame.py:2352: SettingWithCopyWarning: \n",
      "A value is trying to be set on a copy of a slice from a DataFrame.\n",
      "Try using .loc[row_indexer,col_indexer] = value instead\n",
      "\n",
      "See the caveats in the documentation: http://pandas.pydata.org/pandas-docs/stable/indexing.html#indexing-view-versus-copy\n",
      "  self[k1] = value[k2]\n"
     ]
    },
    {
     "data": {
      "text/html": [
       "<div>\n",
       "<style>\n",
       "    .dataframe thead tr:only-child th {\n",
       "        text-align: right;\n",
       "    }\n",
       "\n",
       "    .dataframe thead th {\n",
       "        text-align: left;\n",
       "    }\n",
       "\n",
       "    .dataframe tbody tr th {\n",
       "        vertical-align: top;\n",
       "    }\n",
       "</style>\n",
       "<table border=\"1\" class=\"dataframe\">\n",
       "  <thead>\n",
       "    <tr style=\"text-align: right;\">\n",
       "      <th></th>\n",
       "      <th>State</th>\n",
       "      <th>Total Population</th>\n",
       "      <th>Rural Population</th>\n",
       "    </tr>\n",
       "  </thead>\n",
       "  <tbody>\n",
       "    <tr>\n",
       "      <th>1</th>\n",
       "      <td>Alabama</td>\n",
       "      <td>4779736.0</td>\n",
       "      <td>1957932.0</td>\n",
       "    </tr>\n",
       "    <tr>\n",
       "      <th>2</th>\n",
       "      <td>Alaska</td>\n",
       "      <td>710231.0</td>\n",
       "      <td>241338.0</td>\n",
       "    </tr>\n",
       "    <tr>\n",
       "      <th>3</th>\n",
       "      <td>Arizona</td>\n",
       "      <td>6392017.0</td>\n",
       "      <td>651358.0</td>\n",
       "    </tr>\n",
       "    <tr>\n",
       "      <th>4</th>\n",
       "      <td>Arkansas</td>\n",
       "      <td>2915918.0</td>\n",
       "      <td>1278329.0</td>\n",
       "    </tr>\n",
       "    <tr>\n",
       "      <th>5</th>\n",
       "      <td>California</td>\n",
       "      <td>37253956.0</td>\n",
       "      <td>1880350.0</td>\n",
       "    </tr>\n",
       "  </tbody>\n",
       "</table>\n",
       "</div>"
      ],
      "text/plain": [
       "        State  Total Population  Rural Population\n",
       "1     Alabama         4779736.0         1957932.0\n",
       "2      Alaska          710231.0          241338.0\n",
       "3     Arizona         6392017.0          651358.0\n",
       "4    Arkansas         2915918.0         1278329.0\n",
       "5  California        37253956.0         1880350.0"
      ]
     },
     "execution_count": 40,
     "metadata": {},
     "output_type": "execute_result"
    }
   ],
   "source": [
    "#it looks like we have a final problem; every column has object data type. We will need to convert the columns of interest into numeric, since they contain values\n",
    "ruralness[['Total Population']]=ruralness[['Total Population']].astype('float')\n",
    "ruralness[['Rural Population']]=ruralness[['Rural Population']].astype('float')\n",
    "ruralness.head()"
   ]
  },
  {
   "cell_type": "code",
   "execution_count": 41,
   "metadata": {},
   "outputs": [
    {
     "data": {
      "text/plain": [
       "State                object\n",
       "Total Population    float64\n",
       "Rural Population    float64\n",
       "dtype: object"
      ]
     },
     "execution_count": 41,
     "metadata": {},
     "output_type": "execute_result"
    }
   ],
   "source": [
    "ruralness.dtypes #looks good"
   ]
  },
  {
   "cell_type": "code",
   "execution_count": 44,
   "metadata": {},
   "outputs": [
    {
     "name": "stderr",
     "output_type": "stream",
     "text": [
      "C:\\Users\\dmink\\Anaconda3\\lib\\site-packages\\ipykernel_launcher.py:2: SettingWithCopyWarning: \n",
      "A value is trying to be set on a copy of a slice from a DataFrame.\n",
      "Try using .loc[row_indexer,col_indexer] = value instead\n",
      "\n",
      "See the caveats in the documentation: http://pandas.pydata.org/pandas-docs/stable/indexing.html#indexing-view-versus-copy\n",
      "  \n"
     ]
    },
    {
     "data": {
      "text/html": [
       "<div>\n",
       "<style>\n",
       "    .dataframe thead tr:only-child th {\n",
       "        text-align: right;\n",
       "    }\n",
       "\n",
       "    .dataframe thead th {\n",
       "        text-align: left;\n",
       "    }\n",
       "\n",
       "    .dataframe tbody tr th {\n",
       "        vertical-align: top;\n",
       "    }\n",
       "</style>\n",
       "<table border=\"1\" class=\"dataframe\">\n",
       "  <thead>\n",
       "    <tr style=\"text-align: right;\">\n",
       "      <th></th>\n",
       "      <th>State</th>\n",
       "      <th>Total Population</th>\n",
       "      <th>Rural Population</th>\n",
       "      <th>Ruralness</th>\n",
       "    </tr>\n",
       "  </thead>\n",
       "  <tbody>\n",
       "    <tr>\n",
       "      <th>1</th>\n",
       "      <td>Alabama</td>\n",
       "      <td>4779736.0</td>\n",
       "      <td>1957932.0</td>\n",
       "      <td>40.963183</td>\n",
       "    </tr>\n",
       "    <tr>\n",
       "      <th>2</th>\n",
       "      <td>Alaska</td>\n",
       "      <td>710231.0</td>\n",
       "      <td>241338.0</td>\n",
       "      <td>33.980212</td>\n",
       "    </tr>\n",
       "    <tr>\n",
       "      <th>3</th>\n",
       "      <td>Arizona</td>\n",
       "      <td>6392017.0</td>\n",
       "      <td>651358.0</td>\n",
       "      <td>10.190179</td>\n",
       "    </tr>\n",
       "    <tr>\n",
       "      <th>4</th>\n",
       "      <td>Arkansas</td>\n",
       "      <td>2915918.0</td>\n",
       "      <td>1278329.0</td>\n",
       "      <td>43.839676</td>\n",
       "    </tr>\n",
       "    <tr>\n",
       "      <th>5</th>\n",
       "      <td>California</td>\n",
       "      <td>37253956.0</td>\n",
       "      <td>1880350.0</td>\n",
       "      <td>5.047383</td>\n",
       "    </tr>\n",
       "  </tbody>\n",
       "</table>\n",
       "</div>"
      ],
      "text/plain": [
       "        State  Total Population  Rural Population  Ruralness\n",
       "1     Alabama         4779736.0         1957932.0  40.963183\n",
       "2      Alaska          710231.0          241338.0  33.980212\n",
       "3     Arizona         6392017.0          651358.0  10.190179\n",
       "4    Arkansas         2915918.0         1278329.0  43.839676\n",
       "5  California        37253956.0         1880350.0   5.047383"
      ]
     },
     "execution_count": 44,
     "metadata": {},
     "output_type": "execute_result"
    }
   ],
   "source": [
    "#now that our columns of interest are numeric, we can proceed to create our true column of interest--the percentage of the population that is rural\n",
    "ruralness['Ruralness']=(ruralness['Rural Population']/ruralness['Total Population'])*100 #multiply by 100 to get percentage\n",
    "ruralness.head()"
   ]
  },
  {
   "cell_type": "code",
   "execution_count": 45,
   "metadata": {},
   "outputs": [
    {
     "data": {
      "text/html": [
       "<div>\n",
       "<style>\n",
       "    .dataframe thead tr:only-child th {\n",
       "        text-align: right;\n",
       "    }\n",
       "\n",
       "    .dataframe thead th {\n",
       "        text-align: left;\n",
       "    }\n",
       "\n",
       "    .dataframe tbody tr th {\n",
       "        vertical-align: top;\n",
       "    }\n",
       "</style>\n",
       "<table border=\"1\" class=\"dataframe\">\n",
       "  <thead>\n",
       "    <tr style=\"text-align: right;\">\n",
       "      <th></th>\n",
       "      <th>State</th>\n",
       "      <th>Ruralness</th>\n",
       "    </tr>\n",
       "  </thead>\n",
       "  <tbody>\n",
       "    <tr>\n",
       "      <th>1</th>\n",
       "      <td>Alabama</td>\n",
       "      <td>40.963183</td>\n",
       "    </tr>\n",
       "    <tr>\n",
       "      <th>2</th>\n",
       "      <td>Alaska</td>\n",
       "      <td>33.980212</td>\n",
       "    </tr>\n",
       "    <tr>\n",
       "      <th>3</th>\n",
       "      <td>Arizona</td>\n",
       "      <td>10.190179</td>\n",
       "    </tr>\n",
       "    <tr>\n",
       "      <th>4</th>\n",
       "      <td>Arkansas</td>\n",
       "      <td>43.839676</td>\n",
       "    </tr>\n",
       "    <tr>\n",
       "      <th>5</th>\n",
       "      <td>California</td>\n",
       "      <td>5.047383</td>\n",
       "    </tr>\n",
       "  </tbody>\n",
       "</table>\n",
       "</div>"
      ],
      "text/plain": [
       "        State  Ruralness\n",
       "1     Alabama  40.963183\n",
       "2      Alaska  33.980212\n",
       "3     Arizona  10.190179\n",
       "4    Arkansas  43.839676\n",
       "5  California   5.047383"
      ]
     },
     "execution_count": 45,
     "metadata": {},
     "output_type": "execute_result"
    }
   ],
   "source": [
    "#now we have our column of interest, let's reduce the data frame to just the state name and measure of ruralness\n",
    "ruralness2=ruralness[['State','Ruralness']]\n",
    "ruralness2.head() #looks good"
   ]
  },
  {
   "cell_type": "markdown",
   "metadata": {},
   "source": [
    "### Median age data set"
   ]
  },
  {
   "cell_type": "markdown",
   "metadata": {},
   "source": [
    "This data set provides information on the median age in each state"
   ]
  },
  {
   "cell_type": "code",
   "execution_count": 123,
   "metadata": {},
   "outputs": [
    {
     "data": {
      "text/plain": [
       "GEO.id               object\n",
       "GEO.id2              object\n",
       "GEO.display-label    object\n",
       "HD01_VD02            object\n",
       "HD02_VD02            object\n",
       "HD01_VD03            object\n",
       "HD02_VD03            object\n",
       "HD01_VD04            object\n",
       "HD02_VD04            object\n",
       "dtype: object"
      ]
     },
     "execution_count": 123,
     "metadata": {},
     "output_type": "execute_result"
    }
   ],
   "source": [
    "#grabbing data set for median age by state\n",
    "agedatalink='https://github.com/minkld/PROJECT/raw/master/Datasets/Median%20Age.csv'\n",
    "agedata=pd.read_csv(agedatalink)\n",
    "agedata.dtypes #looks like we will need to run similar procedures as we did for the ruralness dataset to get this one cleaned"
   ]
  },
  {
   "cell_type": "code",
   "execution_count": 47,
   "metadata": {},
   "outputs": [
    {
     "data": {
      "text/html": [
       "<div>\n",
       "<style>\n",
       "    .dataframe thead tr:only-child th {\n",
       "        text-align: right;\n",
       "    }\n",
       "\n",
       "    .dataframe thead th {\n",
       "        text-align: left;\n",
       "    }\n",
       "\n",
       "    .dataframe tbody tr th {\n",
       "        vertical-align: top;\n",
       "    }\n",
       "</style>\n",
       "<table border=\"1\" class=\"dataframe\">\n",
       "  <thead>\n",
       "    <tr style=\"text-align: right;\">\n",
       "      <th></th>\n",
       "      <th>GEO.display-label</th>\n",
       "      <th>HD01_VD02</th>\n",
       "    </tr>\n",
       "  </thead>\n",
       "  <tbody>\n",
       "    <tr>\n",
       "      <th>0</th>\n",
       "      <td>Geography</td>\n",
       "      <td>Estimate; Median age -- - Total:</td>\n",
       "    </tr>\n",
       "    <tr>\n",
       "      <th>1</th>\n",
       "      <td>Alabama</td>\n",
       "      <td>38.6</td>\n",
       "    </tr>\n",
       "    <tr>\n",
       "      <th>2</th>\n",
       "      <td>Alaska</td>\n",
       "      <td>33.6</td>\n",
       "    </tr>\n",
       "    <tr>\n",
       "      <th>3</th>\n",
       "      <td>Arizona</td>\n",
       "      <td>37.1</td>\n",
       "    </tr>\n",
       "    <tr>\n",
       "      <th>4</th>\n",
       "      <td>Arkansas</td>\n",
       "      <td>37.7</td>\n",
       "    </tr>\n",
       "  </tbody>\n",
       "</table>\n",
       "</div>"
      ],
      "text/plain": [
       "  GEO.display-label                         HD01_VD02\n",
       "0         Geography  Estimate; Median age -- - Total:\n",
       "1           Alabama                              38.6\n",
       "2            Alaska                              33.6\n",
       "3           Arizona                              37.1\n",
       "4          Arkansas                              37.7"
      ]
     },
     "execution_count": 47,
     "metadata": {},
     "output_type": "execute_result"
    }
   ],
   "source": [
    "age=agedata[['GEO.display-label','HD01_VD02']] #getting the columns of interest\n",
    "age.head() #looks good"
   ]
  },
  {
   "cell_type": "code",
   "execution_count": 48,
   "metadata": {},
   "outputs": [
    {
     "name": "stderr",
     "output_type": "stream",
     "text": [
      "C:\\Users\\dmink\\Anaconda3\\lib\\site-packages\\pandas\\core\\frame.py:2746: SettingWithCopyWarning: \n",
      "A value is trying to be set on a copy of a slice from a DataFrame\n",
      "\n",
      "See the caveats in the documentation: http://pandas.pydata.org/pandas-docs/stable/indexing.html#indexing-view-versus-copy\n",
      "  **kwargs)\n"
     ]
    },
    {
     "data": {
      "text/html": [
       "<div>\n",
       "<style>\n",
       "    .dataframe thead tr:only-child th {\n",
       "        text-align: right;\n",
       "    }\n",
       "\n",
       "    .dataframe thead th {\n",
       "        text-align: left;\n",
       "    }\n",
       "\n",
       "    .dataframe tbody tr th {\n",
       "        vertical-align: top;\n",
       "    }\n",
       "</style>\n",
       "<table border=\"1\" class=\"dataframe\">\n",
       "  <thead>\n",
       "    <tr style=\"text-align: right;\">\n",
       "      <th></th>\n",
       "      <th>State</th>\n",
       "      <th>Median age</th>\n",
       "    </tr>\n",
       "  </thead>\n",
       "  <tbody>\n",
       "    <tr>\n",
       "      <th>0</th>\n",
       "      <td>Geography</td>\n",
       "      <td>Estimate; Median age -- - Total:</td>\n",
       "    </tr>\n",
       "    <tr>\n",
       "      <th>1</th>\n",
       "      <td>Alabama</td>\n",
       "      <td>38.6</td>\n",
       "    </tr>\n",
       "    <tr>\n",
       "      <th>2</th>\n",
       "      <td>Alaska</td>\n",
       "      <td>33.6</td>\n",
       "    </tr>\n",
       "    <tr>\n",
       "      <th>3</th>\n",
       "      <td>Arizona</td>\n",
       "      <td>37.1</td>\n",
       "    </tr>\n",
       "    <tr>\n",
       "      <th>4</th>\n",
       "      <td>Arkansas</td>\n",
       "      <td>37.7</td>\n",
       "    </tr>\n",
       "  </tbody>\n",
       "</table>\n",
       "</div>"
      ],
      "text/plain": [
       "       State                        Median age\n",
       "0  Geography  Estimate; Median age -- - Total:\n",
       "1    Alabama                              38.6\n",
       "2     Alaska                              33.6\n",
       "3    Arizona                              37.1\n",
       "4   Arkansas                              37.7"
      ]
     },
     "execution_count": 48,
     "metadata": {},
     "output_type": "execute_result"
    }
   ],
   "source": [
    "#time to rename our columns\n",
    "age.rename(columns = {'GEO.display-label':'State','HD01_VD02':'Median age'}, inplace = True)\n",
    "age.head() #looking better"
   ]
  },
  {
   "cell_type": "code",
   "execution_count": 49,
   "metadata": {},
   "outputs": [
    {
     "name": "stderr",
     "output_type": "stream",
     "text": [
      "C:\\Users\\dmink\\Anaconda3\\lib\\site-packages\\ipykernel_launcher.py:2: SettingWithCopyWarning: \n",
      "A value is trying to be set on a copy of a slice from a DataFrame\n",
      "\n",
      "See the caveats in the documentation: http://pandas.pydata.org/pandas-docs/stable/indexing.html#indexing-view-versus-copy\n",
      "  \n",
      "C:\\Users\\dmink\\Anaconda3\\lib\\site-packages\\pandas\\core\\frame.py:2352: SettingWithCopyWarning: \n",
      "A value is trying to be set on a copy of a slice from a DataFrame.\n",
      "Try using .loc[row_indexer,col_indexer] = value instead\n",
      "\n",
      "See the caveats in the documentation: http://pandas.pydata.org/pandas-docs/stable/indexing.html#indexing-view-versus-copy\n",
      "  self[k1] = value[k2]\n"
     ]
    },
    {
     "data": {
      "text/plain": [
       "State          object\n",
       "Median age    float64\n",
       "dtype: object"
      ]
     },
     "execution_count": 49,
     "metadata": {},
     "output_type": "execute_result"
    }
   ],
   "source": [
    "#now we need to remove the first row before converting the median age column from object to numeric\n",
    "age.drop(age.index[[0]], inplace = True)\n",
    "#now we can covert the median age column to numeric\n",
    "age[['Median age']]=age[['Median age']].astype('float')\n",
    "age.dtypes #looks like everything has been cleaned"
   ]
  },
  {
   "cell_type": "markdown",
   "metadata": {},
   "source": [
    "### State income per capita data set"
   ]
  },
  {
   "cell_type": "markdown",
   "metadata": {},
   "source": [
    "This data set contains information on income per capita by state"
   ]
  },
  {
   "cell_type": "code",
   "execution_count": 124,
   "metadata": {},
   "outputs": [
    {
     "data": {
      "text/plain": [
       "GEO.id               object\n",
       "GEO.id2              object\n",
       "GEO.display-label    object\n",
       "HD01_VD01            object\n",
       "HD02_VD01            object\n",
       "dtype: object"
      ]
     },
     "execution_count": 124,
     "metadata": {},
     "output_type": "execute_result"
    }
   ],
   "source": [
    "#on to the last data set, let's import income per capita measures for each state\n",
    "pcincomelink='https://github.com/minkld/PROJECT/raw/master/Datasets/Per%20Capita%20Income.csv'\n",
    "pcincomedata=pd.read_csv(pcincomelink)\n",
    "pcincomedata.dtypes #looks like we will have to run the same cleaning procedures on this data set as we did the last one"
   ]
  },
  {
   "cell_type": "code",
   "execution_count": 51,
   "metadata": {},
   "outputs": [
    {
     "data": {
      "text/html": [
       "<div>\n",
       "<style>\n",
       "    .dataframe thead tr:only-child th {\n",
       "        text-align: right;\n",
       "    }\n",
       "\n",
       "    .dataframe thead th {\n",
       "        text-align: left;\n",
       "    }\n",
       "\n",
       "    .dataframe tbody tr th {\n",
       "        vertical-align: top;\n",
       "    }\n",
       "</style>\n",
       "<table border=\"1\" class=\"dataframe\">\n",
       "  <thead>\n",
       "    <tr style=\"text-align: right;\">\n",
       "      <th></th>\n",
       "      <th>GEO.display-label</th>\n",
       "      <th>HD01_VD01</th>\n",
       "    </tr>\n",
       "  </thead>\n",
       "  <tbody>\n",
       "    <tr>\n",
       "      <th>0</th>\n",
       "      <td>Geography</td>\n",
       "      <td>Estimate; Per capita income in the past 12 mon...</td>\n",
       "    </tr>\n",
       "    <tr>\n",
       "      <th>1</th>\n",
       "      <td>Alabama</td>\n",
       "      <td>24736</td>\n",
       "    </tr>\n",
       "    <tr>\n",
       "      <th>2</th>\n",
       "      <td>Alaska</td>\n",
       "      <td>34191</td>\n",
       "    </tr>\n",
       "    <tr>\n",
       "      <th>3</th>\n",
       "      <td>Arizona</td>\n",
       "      <td>26686</td>\n",
       "    </tr>\n",
       "    <tr>\n",
       "      <th>4</th>\n",
       "      <td>Arkansas</td>\n",
       "      <td>23401</td>\n",
       "    </tr>\n",
       "  </tbody>\n",
       "</table>\n",
       "</div>"
      ],
      "text/plain": [
       "  GEO.display-label                                          HD01_VD01\n",
       "0         Geography  Estimate; Per capita income in the past 12 mon...\n",
       "1           Alabama                                              24736\n",
       "2            Alaska                                              34191\n",
       "3           Arizona                                              26686\n",
       "4          Arkansas                                              23401"
      ]
     },
     "execution_count": 51,
     "metadata": {},
     "output_type": "execute_result"
    }
   ],
   "source": [
    "#let's start by reducing the data frame to just the columns we are interested in\n",
    "pcincome=pcincomedata[['GEO.display-label','HD01_VD01']]\n",
    "pcincome.head()"
   ]
  },
  {
   "cell_type": "code",
   "execution_count": 52,
   "metadata": {},
   "outputs": [
    {
     "name": "stderr",
     "output_type": "stream",
     "text": [
      "C:\\Users\\dmink\\Anaconda3\\lib\\site-packages\\pandas\\core\\frame.py:2746: SettingWithCopyWarning: \n",
      "A value is trying to be set on a copy of a slice from a DataFrame\n",
      "\n",
      "See the caveats in the documentation: http://pandas.pydata.org/pandas-docs/stable/indexing.html#indexing-view-versus-copy\n",
      "  **kwargs)\n"
     ]
    },
    {
     "data": {
      "text/html": [
       "<div>\n",
       "<style>\n",
       "    .dataframe thead tr:only-child th {\n",
       "        text-align: right;\n",
       "    }\n",
       "\n",
       "    .dataframe thead th {\n",
       "        text-align: left;\n",
       "    }\n",
       "\n",
       "    .dataframe tbody tr th {\n",
       "        vertical-align: top;\n",
       "    }\n",
       "</style>\n",
       "<table border=\"1\" class=\"dataframe\">\n",
       "  <thead>\n",
       "    <tr style=\"text-align: right;\">\n",
       "      <th></th>\n",
       "      <th>State</th>\n",
       "      <th>Per capita income</th>\n",
       "    </tr>\n",
       "  </thead>\n",
       "  <tbody>\n",
       "    <tr>\n",
       "      <th>0</th>\n",
       "      <td>Geography</td>\n",
       "      <td>Estimate; Per capita income in the past 12 mon...</td>\n",
       "    </tr>\n",
       "    <tr>\n",
       "      <th>1</th>\n",
       "      <td>Alabama</td>\n",
       "      <td>24736</td>\n",
       "    </tr>\n",
       "    <tr>\n",
       "      <th>2</th>\n",
       "      <td>Alaska</td>\n",
       "      <td>34191</td>\n",
       "    </tr>\n",
       "    <tr>\n",
       "      <th>3</th>\n",
       "      <td>Arizona</td>\n",
       "      <td>26686</td>\n",
       "    </tr>\n",
       "    <tr>\n",
       "      <th>4</th>\n",
       "      <td>Arkansas</td>\n",
       "      <td>23401</td>\n",
       "    </tr>\n",
       "  </tbody>\n",
       "</table>\n",
       "</div>"
      ],
      "text/plain": [
       "       State                                  Per capita income\n",
       "0  Geography  Estimate; Per capita income in the past 12 mon...\n",
       "1    Alabama                                              24736\n",
       "2     Alaska                                              34191\n",
       "3    Arizona                                              26686\n",
       "4   Arkansas                                              23401"
      ]
     },
     "execution_count": 52,
     "metadata": {},
     "output_type": "execute_result"
    }
   ],
   "source": [
    "#let's rename our columns\n",
    "pcincome.rename(columns = {'GEO.display-label':'State','HD01_VD01':'Per capita income'}, inplace = True)\n",
    "pcincome.head() #looking better"
   ]
  },
  {
   "cell_type": "code",
   "execution_count": 53,
   "metadata": {},
   "outputs": [
    {
     "name": "stderr",
     "output_type": "stream",
     "text": [
      "C:\\Users\\dmink\\Anaconda3\\lib\\site-packages\\ipykernel_launcher.py:3: SettingWithCopyWarning: \n",
      "A value is trying to be set on a copy of a slice from a DataFrame\n",
      "\n",
      "See the caveats in the documentation: http://pandas.pydata.org/pandas-docs/stable/indexing.html#indexing-view-versus-copy\n",
      "  This is separate from the ipykernel package so we can avoid doing imports until\n",
      "C:\\Users\\dmink\\Anaconda3\\lib\\site-packages\\pandas\\core\\frame.py:2352: SettingWithCopyWarning: \n",
      "A value is trying to be set on a copy of a slice from a DataFrame.\n",
      "Try using .loc[row_indexer,col_indexer] = value instead\n",
      "\n",
      "See the caveats in the documentation: http://pandas.pydata.org/pandas-docs/stable/indexing.html#indexing-view-versus-copy\n",
      "  self[k1] = value[k2]\n"
     ]
    },
    {
     "data": {
      "text/plain": [
       "State                 object\n",
       "Per capita income    float64\n",
       "dtype: object"
      ]
     },
     "execution_count": 53,
     "metadata": {},
     "output_type": "execute_result"
    }
   ],
   "source": [
    "pcincome.dtypes #we still need to convert the second column to numeric\n",
    "#but first we need to remove the first row to avoid errors in converting data type to numeric\n",
    "pcincome.drop(pcincome.index[[0]], inplace = True)\n",
    "#now let's try converting\n",
    "pcincome[['Per capita income']]=pcincome[['Per capita income']].astype('float')\n",
    "pcincome.dtypes #looks good"
   ]
  },
  {
   "cell_type": "markdown",
   "metadata": {},
   "source": [
    "### Merging data sets"
   ]
  },
  {
   "cell_type": "markdown",
   "metadata": {},
   "source": [
    "Now that we have our individual data frames assembled, we need to consolidate our data frames into one larger data frame if we want to run descriptives and statistical models"
   ]
  },
  {
   "cell_type": "code",
   "execution_count": 54,
   "metadata": {
    "collapsed": true
   },
   "outputs": [],
   "source": [
    "index1=pd.merge(fatalities,alcohol)\n",
    "index2=pd.merge(commutetime,ruralness2)\n",
    "index3=pd.merge(index1,index2)\n",
    "index4=pd.merge(age,pcincome)\n",
    "crashdata=pd.merge(index3,index4) #looks like everything is consolidated now"
   ]
  },
  {
   "cell_type": "code",
   "execution_count": 55,
   "metadata": {},
   "outputs": [
    {
     "data": {
      "text/html": [
       "<div>\n",
       "<style>\n",
       "    .dataframe thead tr:only-child th {\n",
       "        text-align: right;\n",
       "    }\n",
       "\n",
       "    .dataframe thead th {\n",
       "        text-align: left;\n",
       "    }\n",
       "\n",
       "    .dataframe tbody tr th {\n",
       "        vertical-align: top;\n",
       "    }\n",
       "</style>\n",
       "<table border=\"1\" class=\"dataframe\">\n",
       "  <thead>\n",
       "    <tr style=\"text-align: right;\">\n",
       "      <th></th>\n",
       "      <th>State</th>\n",
       "      <th>Number of fatalities 2015</th>\n",
       "      <th>Fatality rate per 100 million VMT 2015</th>\n",
       "      <th>Poor Roads</th>\n",
       "      <th>Percent of fatal accidents involving BAC above legal limit</th>\n",
       "      <th>Mean commute time</th>\n",
       "      <th>Ruralness</th>\n",
       "      <th>Median age</th>\n",
       "      <th>Per capita income</th>\n",
       "    </tr>\n",
       "  </thead>\n",
       "  <tbody>\n",
       "    <tr>\n",
       "      <th>0</th>\n",
       "      <td>Alabama</td>\n",
       "      <td>849.0</td>\n",
       "      <td>1.26</td>\n",
       "      <td>2.0</td>\n",
       "      <td>29.0</td>\n",
       "      <td>24.5</td>\n",
       "      <td>40.963183</td>\n",
       "      <td>38.6</td>\n",
       "      <td>24736.0</td>\n",
       "    </tr>\n",
       "    <tr>\n",
       "      <th>1</th>\n",
       "      <td>Alaska</td>\n",
       "      <td>65.0</td>\n",
       "      <td>1.29</td>\n",
       "      <td>21.0</td>\n",
       "      <td>36.0</td>\n",
       "      <td>18.9</td>\n",
       "      <td>33.980212</td>\n",
       "      <td>33.6</td>\n",
       "      <td>34191.0</td>\n",
       "    </tr>\n",
       "    <tr>\n",
       "      <th>2</th>\n",
       "      <td>Arizona</td>\n",
       "      <td>893.0</td>\n",
       "      <td>1.37</td>\n",
       "      <td>15.0</td>\n",
       "      <td>31.0</td>\n",
       "      <td>24.9</td>\n",
       "      <td>10.190179</td>\n",
       "      <td>37.1</td>\n",
       "      <td>26686.0</td>\n",
       "    </tr>\n",
       "    <tr>\n",
       "      <th>3</th>\n",
       "      <td>Arkansas</td>\n",
       "      <td>531.0</td>\n",
       "      <td>1.52</td>\n",
       "      <td>24.0</td>\n",
       "      <td>28.0</td>\n",
       "      <td>21.6</td>\n",
       "      <td>43.839676</td>\n",
       "      <td>37.7</td>\n",
       "      <td>23401.0</td>\n",
       "    </tr>\n",
       "    <tr>\n",
       "      <th>4</th>\n",
       "      <td>California</td>\n",
       "      <td>3176.0</td>\n",
       "      <td>0.95</td>\n",
       "      <td>50.0</td>\n",
       "      <td>29.0</td>\n",
       "      <td>28.4</td>\n",
       "      <td>5.047383</td>\n",
       "      <td>36.0</td>\n",
       "      <td>31458.0</td>\n",
       "    </tr>\n",
       "    <tr>\n",
       "      <th>5</th>\n",
       "      <td>Colorado</td>\n",
       "      <td>546.0</td>\n",
       "      <td>1.08</td>\n",
       "      <td>21.0</td>\n",
       "      <td>28.0</td>\n",
       "      <td>24.9</td>\n",
       "      <td>13.847840</td>\n",
       "      <td>36.4</td>\n",
       "      <td>33230.0</td>\n",
       "    </tr>\n",
       "    <tr>\n",
       "      <th>6</th>\n",
       "      <td>Connecticut</td>\n",
       "      <td>266.0</td>\n",
       "      <td>0.84</td>\n",
       "      <td>57.0</td>\n",
       "      <td>39.0</td>\n",
       "      <td>25.7</td>\n",
       "      <td>12.007369</td>\n",
       "      <td>40.6</td>\n",
       "      <td>39906.0</td>\n",
       "    </tr>\n",
       "    <tr>\n",
       "      <th>7</th>\n",
       "      <td>Delaware</td>\n",
       "      <td>126.0</td>\n",
       "      <td>1.27</td>\n",
       "      <td>16.0</td>\n",
       "      <td>33.0</td>\n",
       "      <td>25.7</td>\n",
       "      <td>16.703343</td>\n",
       "      <td>39.6</td>\n",
       "      <td>31118.0</td>\n",
       "    </tr>\n",
       "    <tr>\n",
       "      <th>9</th>\n",
       "      <td>Florida</td>\n",
       "      <td>2939.0</td>\n",
       "      <td>1.42</td>\n",
       "      <td>11.0</td>\n",
       "      <td>27.0</td>\n",
       "      <td>26.7</td>\n",
       "      <td>8.836969</td>\n",
       "      <td>41.6</td>\n",
       "      <td>27598.0</td>\n",
       "    </tr>\n",
       "    <tr>\n",
       "      <th>10</th>\n",
       "      <td>Georgia</td>\n",
       "      <td>1430.0</td>\n",
       "      <td>1.21</td>\n",
       "      <td>4.0</td>\n",
       "      <td>26.0</td>\n",
       "      <td>27.7</td>\n",
       "      <td>24.933820</td>\n",
       "      <td>36.2</td>\n",
       "      <td>26678.0</td>\n",
       "    </tr>\n",
       "    <tr>\n",
       "      <th>11</th>\n",
       "      <td>Hawaii</td>\n",
       "      <td>94.0</td>\n",
       "      <td>0.91</td>\n",
       "      <td>39.0</td>\n",
       "      <td>35.0</td>\n",
       "      <td>27.2</td>\n",
       "      <td>8.072625</td>\n",
       "      <td>38.5</td>\n",
       "      <td>30970.0</td>\n",
       "    </tr>\n",
       "    <tr>\n",
       "      <th>12</th>\n",
       "      <td>Idaho</td>\n",
       "      <td>216.0</td>\n",
       "      <td>1.30</td>\n",
       "      <td>15.0</td>\n",
       "      <td>32.0</td>\n",
       "      <td>20.4</td>\n",
       "      <td>29.421874</td>\n",
       "      <td>35.7</td>\n",
       "      <td>24280.0</td>\n",
       "    </tr>\n",
       "    <tr>\n",
       "      <th>13</th>\n",
       "      <td>Illinois</td>\n",
       "      <td>998.0</td>\n",
       "      <td>0.95</td>\n",
       "      <td>18.0</td>\n",
       "      <td>31.0</td>\n",
       "      <td>28.5</td>\n",
       "      <td>11.512130</td>\n",
       "      <td>37.4</td>\n",
       "      <td>31502.0</td>\n",
       "    </tr>\n",
       "    <tr>\n",
       "      <th>14</th>\n",
       "      <td>Indiana</td>\n",
       "      <td>821.0</td>\n",
       "      <td>1.04</td>\n",
       "      <td>8.0</td>\n",
       "      <td>22.0</td>\n",
       "      <td>23.4</td>\n",
       "      <td>27.556394</td>\n",
       "      <td>37.4</td>\n",
       "      <td>26117.0</td>\n",
       "    </tr>\n",
       "    <tr>\n",
       "      <th>15</th>\n",
       "      <td>Iowa</td>\n",
       "      <td>320.0</td>\n",
       "      <td>0.96</td>\n",
       "      <td>18.0</td>\n",
       "      <td>24.0</td>\n",
       "      <td>18.9</td>\n",
       "      <td>35.980672</td>\n",
       "      <td>38.0</td>\n",
       "      <td>28872.0</td>\n",
       "    </tr>\n",
       "    <tr>\n",
       "      <th>16</th>\n",
       "      <td>Kansas</td>\n",
       "      <td>355.0</td>\n",
       "      <td>1.13</td>\n",
       "      <td>13.0</td>\n",
       "      <td>24.0</td>\n",
       "      <td>19.2</td>\n",
       "      <td>25.801842</td>\n",
       "      <td>36.2</td>\n",
       "      <td>28478.0</td>\n",
       "    </tr>\n",
       "    <tr>\n",
       "      <th>17</th>\n",
       "      <td>Kentucky</td>\n",
       "      <td>761.0</td>\n",
       "      <td>1.56</td>\n",
       "      <td>8.0</td>\n",
       "      <td>25.0</td>\n",
       "      <td>23.0</td>\n",
       "      <td>41.619527</td>\n",
       "      <td>38.6</td>\n",
       "      <td>24802.0</td>\n",
       "    </tr>\n",
       "    <tr>\n",
       "      <th>18</th>\n",
       "      <td>Louisiana</td>\n",
       "      <td>726.0</td>\n",
       "      <td>1.51</td>\n",
       "      <td>26.0</td>\n",
       "      <td>34.0</td>\n",
       "      <td>25.2</td>\n",
       "      <td>26.813749</td>\n",
       "      <td>36.2</td>\n",
       "      <td>25515.0</td>\n",
       "    </tr>\n",
       "    <tr>\n",
       "      <th>19</th>\n",
       "      <td>Maine</td>\n",
       "      <td>156.0</td>\n",
       "      <td>1.07</td>\n",
       "      <td>21.0</td>\n",
       "      <td>33.0</td>\n",
       "      <td>23.7</td>\n",
       "      <td>61.340178</td>\n",
       "      <td>44.0</td>\n",
       "      <td>28473.0</td>\n",
       "    </tr>\n",
       "    <tr>\n",
       "      <th>20</th>\n",
       "      <td>Maryland</td>\n",
       "      <td>513.0</td>\n",
       "      <td>0.89</td>\n",
       "      <td>24.0</td>\n",
       "      <td>31.0</td>\n",
       "      <td>32.4</td>\n",
       "      <td>12.803574</td>\n",
       "      <td>38.3</td>\n",
       "      <td>37756.0</td>\n",
       "    </tr>\n",
       "    <tr>\n",
       "      <th>21</th>\n",
       "      <td>Massachusetts</td>\n",
       "      <td>306.0</td>\n",
       "      <td>0.52</td>\n",
       "      <td>16.0</td>\n",
       "      <td>31.0</td>\n",
       "      <td>29.0</td>\n",
       "      <td>8.027944</td>\n",
       "      <td>39.4</td>\n",
       "      <td>38069.0</td>\n",
       "    </tr>\n",
       "    <tr>\n",
       "      <th>22</th>\n",
       "      <td>Michigan</td>\n",
       "      <td>963.0</td>\n",
       "      <td>0.98</td>\n",
       "      <td>21.0</td>\n",
       "      <td>28.0</td>\n",
       "      <td>24.3</td>\n",
       "      <td>25.432766</td>\n",
       "      <td>39.5</td>\n",
       "      <td>27549.0</td>\n",
       "    </tr>\n",
       "    <tr>\n",
       "      <th>23</th>\n",
       "      <td>Minnesota</td>\n",
       "      <td>411.0</td>\n",
       "      <td>0.72</td>\n",
       "      <td>15.0</td>\n",
       "      <td>28.0</td>\n",
       "      <td>23.2</td>\n",
       "      <td>26.727640</td>\n",
       "      <td>37.8</td>\n",
       "      <td>33225.0</td>\n",
       "    </tr>\n",
       "    <tr>\n",
       "      <th>24</th>\n",
       "      <td>Mississippi</td>\n",
       "      <td>677.0</td>\n",
       "      <td>1.70</td>\n",
       "      <td>28.0</td>\n",
       "      <td>26.0</td>\n",
       "      <td>24.2</td>\n",
       "      <td>50.654619</td>\n",
       "      <td>36.7</td>\n",
       "      <td>21651.0</td>\n",
       "    </tr>\n",
       "    <tr>\n",
       "      <th>25</th>\n",
       "      <td>Missouri</td>\n",
       "      <td>869.0</td>\n",
       "      <td>1.21</td>\n",
       "      <td>24.0</td>\n",
       "      <td>26.0</td>\n",
       "      <td>23.4</td>\n",
       "      <td>29.563827</td>\n",
       "      <td>38.3</td>\n",
       "      <td>27044.0</td>\n",
       "    </tr>\n",
       "    <tr>\n",
       "      <th>26</th>\n",
       "      <td>Montana</td>\n",
       "      <td>224.0</td>\n",
       "      <td>1.81</td>\n",
       "      <td>10.0</td>\n",
       "      <td>34.0</td>\n",
       "      <td>17.9</td>\n",
       "      <td>44.106972</td>\n",
       "      <td>39.8</td>\n",
       "      <td>27309.0</td>\n",
       "    </tr>\n",
       "    <tr>\n",
       "      <th>27</th>\n",
       "      <td>Nebraska</td>\n",
       "      <td>246.0</td>\n",
       "      <td>1.22</td>\n",
       "      <td>10.0</td>\n",
       "      <td>26.0</td>\n",
       "      <td>18.3</td>\n",
       "      <td>26.865465</td>\n",
       "      <td>36.2</td>\n",
       "      <td>28596.0</td>\n",
       "    </tr>\n",
       "    <tr>\n",
       "      <th>28</th>\n",
       "      <td>Nevada</td>\n",
       "      <td>325.0</td>\n",
       "      <td>1.25</td>\n",
       "      <td>13.0</td>\n",
       "      <td>30.0</td>\n",
       "      <td>23.9</td>\n",
       "      <td>5.804519</td>\n",
       "      <td>37.5</td>\n",
       "      <td>27253.0</td>\n",
       "    </tr>\n",
       "    <tr>\n",
       "      <th>29</th>\n",
       "      <td>New Hampshire</td>\n",
       "      <td>114.0</td>\n",
       "      <td>0.87</td>\n",
       "      <td>9.0</td>\n",
       "      <td>29.0</td>\n",
       "      <td>26.9</td>\n",
       "      <td>39.696917</td>\n",
       "      <td>42.4</td>\n",
       "      <td>35264.0</td>\n",
       "    </tr>\n",
       "    <tr>\n",
       "      <th>30</th>\n",
       "      <td>New Jersey</td>\n",
       "      <td>562.0</td>\n",
       "      <td>0.75</td>\n",
       "      <td>38.0</td>\n",
       "      <td>20.0</td>\n",
       "      <td>31.2</td>\n",
       "      <td>5.320446</td>\n",
       "      <td>39.5</td>\n",
       "      <td>37538.0</td>\n",
       "    </tr>\n",
       "    <tr>\n",
       "      <th>31</th>\n",
       "      <td>New Mexico</td>\n",
       "      <td>298.0</td>\n",
       "      <td>1.09</td>\n",
       "      <td>26.0</td>\n",
       "      <td>33.0</td>\n",
       "      <td>21.7</td>\n",
       "      <td>22.572977</td>\n",
       "      <td>37.2</td>\n",
       "      <td>24459.0</td>\n",
       "    </tr>\n",
       "    <tr>\n",
       "      <th>32</th>\n",
       "      <td>New York</td>\n",
       "      <td>1121.0</td>\n",
       "      <td>0.88</td>\n",
       "      <td>28.0</td>\n",
       "      <td>28.0</td>\n",
       "      <td>32.6</td>\n",
       "      <td>12.127075</td>\n",
       "      <td>38.2</td>\n",
       "      <td>34212.0</td>\n",
       "    </tr>\n",
       "    <tr>\n",
       "      <th>33</th>\n",
       "      <td>North Carolina</td>\n",
       "      <td>1379.0</td>\n",
       "      <td>1.23</td>\n",
       "      <td>13.0</td>\n",
       "      <td>30.0</td>\n",
       "      <td>24.1</td>\n",
       "      <td>33.912566</td>\n",
       "      <td>38.3</td>\n",
       "      <td>26779.0</td>\n",
       "    </tr>\n",
       "    <tr>\n",
       "      <th>34</th>\n",
       "      <td>North Dakota</td>\n",
       "      <td>131.0</td>\n",
       "      <td>1.31</td>\n",
       "      <td>9.0</td>\n",
       "      <td>38.0</td>\n",
       "      <td>17.3</td>\n",
       "      <td>40.101488</td>\n",
       "      <td>35.2</td>\n",
       "      <td>33107.0</td>\n",
       "    </tr>\n",
       "    <tr>\n",
       "      <th>35</th>\n",
       "      <td>Ohio</td>\n",
       "      <td>1110.0</td>\n",
       "      <td>0.98</td>\n",
       "      <td>17.0</td>\n",
       "      <td>28.0</td>\n",
       "      <td>23.3</td>\n",
       "      <td>22.076099</td>\n",
       "      <td>39.3</td>\n",
       "      <td>27800.0</td>\n",
       "    </tr>\n",
       "    <tr>\n",
       "      <th>36</th>\n",
       "      <td>Oklahoma</td>\n",
       "      <td>643.0</td>\n",
       "      <td>1.35</td>\n",
       "      <td>26.0</td>\n",
       "      <td>27.0</td>\n",
       "      <td>21.4</td>\n",
       "      <td>33.756425</td>\n",
       "      <td>36.2</td>\n",
       "      <td>25628.0</td>\n",
       "    </tr>\n",
       "    <tr>\n",
       "      <th>37</th>\n",
       "      <td>Oregon</td>\n",
       "      <td>447.0</td>\n",
       "      <td>1.24</td>\n",
       "      <td>11.0</td>\n",
       "      <td>35.0</td>\n",
       "      <td>23.2</td>\n",
       "      <td>18.968362</td>\n",
       "      <td>39.1</td>\n",
       "      <td>28822.0</td>\n",
       "    </tr>\n",
       "    <tr>\n",
       "      <th>38</th>\n",
       "      <td>Pennsylvania</td>\n",
       "      <td>1200.0</td>\n",
       "      <td>1.19</td>\n",
       "      <td>32.0</td>\n",
       "      <td>30.0</td>\n",
       "      <td>26.5</td>\n",
       "      <td>21.343183</td>\n",
       "      <td>40.6</td>\n",
       "      <td>30137.0</td>\n",
       "    </tr>\n",
       "    <tr>\n",
       "      <th>39</th>\n",
       "      <td>Rhode Island</td>\n",
       "      <td>45.0</td>\n",
       "      <td>0.57</td>\n",
       "      <td>54.0</td>\n",
       "      <td>43.0</td>\n",
       "      <td>24.4</td>\n",
       "      <td>9.265348</td>\n",
       "      <td>39.9</td>\n",
       "      <td>31904.0</td>\n",
       "    </tr>\n",
       "    <tr>\n",
       "      <th>40</th>\n",
       "      <td>South Carolina</td>\n",
       "      <td>977.0</td>\n",
       "      <td>1.89</td>\n",
       "      <td>16.0</td>\n",
       "      <td>31.0</td>\n",
       "      <td>24.1</td>\n",
       "      <td>33.674215</td>\n",
       "      <td>38.8</td>\n",
       "      <td>25521.0</td>\n",
       "    </tr>\n",
       "    <tr>\n",
       "      <th>41</th>\n",
       "      <td>South Dakota</td>\n",
       "      <td>133.0</td>\n",
       "      <td>1.43</td>\n",
       "      <td>17.0</td>\n",
       "      <td>33.0</td>\n",
       "      <td>16.9</td>\n",
       "      <td>43.348277</td>\n",
       "      <td>36.8</td>\n",
       "      <td>27516.0</td>\n",
       "    </tr>\n",
       "    <tr>\n",
       "      <th>42</th>\n",
       "      <td>Tennessee</td>\n",
       "      <td>958.0</td>\n",
       "      <td>1.25</td>\n",
       "      <td>8.0</td>\n",
       "      <td>26.0</td>\n",
       "      <td>24.7</td>\n",
       "      <td>33.608962</td>\n",
       "      <td>38.5</td>\n",
       "      <td>26019.0</td>\n",
       "    </tr>\n",
       "    <tr>\n",
       "      <th>43</th>\n",
       "      <td>Texas</td>\n",
       "      <td>3516.0</td>\n",
       "      <td>1.36</td>\n",
       "      <td>18.0</td>\n",
       "      <td>38.0</td>\n",
       "      <td>25.9</td>\n",
       "      <td>15.300999</td>\n",
       "      <td>34.2</td>\n",
       "      <td>27828.0</td>\n",
       "    </tr>\n",
       "    <tr>\n",
       "      <th>44</th>\n",
       "      <td>Utah</td>\n",
       "      <td>276.0</td>\n",
       "      <td>0.93</td>\n",
       "      <td>10.0</td>\n",
       "      <td>16.0</td>\n",
       "      <td>21.6</td>\n",
       "      <td>9.417541</td>\n",
       "      <td>30.3</td>\n",
       "      <td>25600.0</td>\n",
       "    </tr>\n",
       "    <tr>\n",
       "      <th>45</th>\n",
       "      <td>Vermont</td>\n",
       "      <td>57.0</td>\n",
       "      <td>0.78</td>\n",
       "      <td>24.0</td>\n",
       "      <td>27.0</td>\n",
       "      <td>22.7</td>\n",
       "      <td>61.104514</td>\n",
       "      <td>42.6</td>\n",
       "      <td>30663.0</td>\n",
       "    </tr>\n",
       "    <tr>\n",
       "      <th>46</th>\n",
       "      <td>Virginia</td>\n",
       "      <td>753.0</td>\n",
       "      <td>0.91</td>\n",
       "      <td>23.0</td>\n",
       "      <td>28.0</td>\n",
       "      <td>28.1</td>\n",
       "      <td>24.545983</td>\n",
       "      <td>37.8</td>\n",
       "      <td>34967.0</td>\n",
       "    </tr>\n",
       "    <tr>\n",
       "      <th>47</th>\n",
       "      <td>Washington</td>\n",
       "      <td>568.0</td>\n",
       "      <td>0.95</td>\n",
       "      <td>31.0</td>\n",
       "      <td>26.0</td>\n",
       "      <td>26.7</td>\n",
       "      <td>15.951589</td>\n",
       "      <td>37.6</td>\n",
       "      <td>32999.0</td>\n",
       "    </tr>\n",
       "    <tr>\n",
       "      <th>48</th>\n",
       "      <td>West Virginia</td>\n",
       "      <td>268.0</td>\n",
       "      <td>1.35</td>\n",
       "      <td>19.0</td>\n",
       "      <td>27.0</td>\n",
       "      <td>25.6</td>\n",
       "      <td>51.278310</td>\n",
       "      <td>41.9</td>\n",
       "      <td>24002.0</td>\n",
       "    </tr>\n",
       "    <tr>\n",
       "      <th>49</th>\n",
       "      <td>Wisconsin</td>\n",
       "      <td>566.0</td>\n",
       "      <td>0.91</td>\n",
       "      <td>27.0</td>\n",
       "      <td>33.0</td>\n",
       "      <td>21.9</td>\n",
       "      <td>29.846179</td>\n",
       "      <td>39.1</td>\n",
       "      <td>29253.0</td>\n",
       "    </tr>\n",
       "    <tr>\n",
       "      <th>50</th>\n",
       "      <td>Wyoming</td>\n",
       "      <td>145.0</td>\n",
       "      <td>1.51</td>\n",
       "      <td>9.0</td>\n",
       "      <td>38.0</td>\n",
       "      <td>18.1</td>\n",
       "      <td>35.241987</td>\n",
       "      <td>36.8</td>\n",
       "      <td>30139.0</td>\n",
       "    </tr>\n",
       "  </tbody>\n",
       "</table>\n",
       "</div>"
      ],
      "text/plain": [
       "             State  Number of fatalities 2015  \\\n",
       "0          Alabama                      849.0   \n",
       "1           Alaska                       65.0   \n",
       "2          Arizona                      893.0   \n",
       "3         Arkansas                      531.0   \n",
       "4       California                     3176.0   \n",
       "5         Colorado                      546.0   \n",
       "6      Connecticut                      266.0   \n",
       "7         Delaware                      126.0   \n",
       "9          Florida                     2939.0   \n",
       "10         Georgia                     1430.0   \n",
       "11          Hawaii                       94.0   \n",
       "12           Idaho                      216.0   \n",
       "13        Illinois                      998.0   \n",
       "14         Indiana                      821.0   \n",
       "15            Iowa                      320.0   \n",
       "16          Kansas                      355.0   \n",
       "17        Kentucky                      761.0   \n",
       "18       Louisiana                      726.0   \n",
       "19           Maine                      156.0   \n",
       "20        Maryland                      513.0   \n",
       "21   Massachusetts                      306.0   \n",
       "22        Michigan                      963.0   \n",
       "23       Minnesota                      411.0   \n",
       "24     Mississippi                      677.0   \n",
       "25        Missouri                      869.0   \n",
       "26         Montana                      224.0   \n",
       "27        Nebraska                      246.0   \n",
       "28          Nevada                      325.0   \n",
       "29   New Hampshire                      114.0   \n",
       "30      New Jersey                      562.0   \n",
       "31      New Mexico                      298.0   \n",
       "32        New York                     1121.0   \n",
       "33  North Carolina                     1379.0   \n",
       "34    North Dakota                      131.0   \n",
       "35            Ohio                     1110.0   \n",
       "36        Oklahoma                      643.0   \n",
       "37          Oregon                      447.0   \n",
       "38    Pennsylvania                     1200.0   \n",
       "39    Rhode Island                       45.0   \n",
       "40  South Carolina                      977.0   \n",
       "41    South Dakota                      133.0   \n",
       "42       Tennessee                      958.0   \n",
       "43           Texas                     3516.0   \n",
       "44            Utah                      276.0   \n",
       "45         Vermont                       57.0   \n",
       "46        Virginia                      753.0   \n",
       "47      Washington                      568.0   \n",
       "48   West Virginia                      268.0   \n",
       "49       Wisconsin                      566.0   \n",
       "50         Wyoming                      145.0   \n",
       "\n",
       "    Fatality rate per 100 million VMT 2015  Poor Roads  \\\n",
       "0                                     1.26         2.0   \n",
       "1                                     1.29        21.0   \n",
       "2                                     1.37        15.0   \n",
       "3                                     1.52        24.0   \n",
       "4                                     0.95        50.0   \n",
       "5                                     1.08        21.0   \n",
       "6                                     0.84        57.0   \n",
       "7                                     1.27        16.0   \n",
       "9                                     1.42        11.0   \n",
       "10                                    1.21         4.0   \n",
       "11                                    0.91        39.0   \n",
       "12                                    1.30        15.0   \n",
       "13                                    0.95        18.0   \n",
       "14                                    1.04         8.0   \n",
       "15                                    0.96        18.0   \n",
       "16                                    1.13        13.0   \n",
       "17                                    1.56         8.0   \n",
       "18                                    1.51        26.0   \n",
       "19                                    1.07        21.0   \n",
       "20                                    0.89        24.0   \n",
       "21                                    0.52        16.0   \n",
       "22                                    0.98        21.0   \n",
       "23                                    0.72        15.0   \n",
       "24                                    1.70        28.0   \n",
       "25                                    1.21        24.0   \n",
       "26                                    1.81        10.0   \n",
       "27                                    1.22        10.0   \n",
       "28                                    1.25        13.0   \n",
       "29                                    0.87         9.0   \n",
       "30                                    0.75        38.0   \n",
       "31                                    1.09        26.0   \n",
       "32                                    0.88        28.0   \n",
       "33                                    1.23        13.0   \n",
       "34                                    1.31         9.0   \n",
       "35                                    0.98        17.0   \n",
       "36                                    1.35        26.0   \n",
       "37                                    1.24        11.0   \n",
       "38                                    1.19        32.0   \n",
       "39                                    0.57        54.0   \n",
       "40                                    1.89        16.0   \n",
       "41                                    1.43        17.0   \n",
       "42                                    1.25         8.0   \n",
       "43                                    1.36        18.0   \n",
       "44                                    0.93        10.0   \n",
       "45                                    0.78        24.0   \n",
       "46                                    0.91        23.0   \n",
       "47                                    0.95        31.0   \n",
       "48                                    1.35        19.0   \n",
       "49                                    0.91        27.0   \n",
       "50                                    1.51         9.0   \n",
       "\n",
       "    Percent of fatal accidents involving BAC above legal limit  \\\n",
       "0                                                29.0            \n",
       "1                                                36.0            \n",
       "2                                                31.0            \n",
       "3                                                28.0            \n",
       "4                                                29.0            \n",
       "5                                                28.0            \n",
       "6                                                39.0            \n",
       "7                                                33.0            \n",
       "9                                                27.0            \n",
       "10                                               26.0            \n",
       "11                                               35.0            \n",
       "12                                               32.0            \n",
       "13                                               31.0            \n",
       "14                                               22.0            \n",
       "15                                               24.0            \n",
       "16                                               24.0            \n",
       "17                                               25.0            \n",
       "18                                               34.0            \n",
       "19                                               33.0            \n",
       "20                                               31.0            \n",
       "21                                               31.0            \n",
       "22                                               28.0            \n",
       "23                                               28.0            \n",
       "24                                               26.0            \n",
       "25                                               26.0            \n",
       "26                                               34.0            \n",
       "27                                               26.0            \n",
       "28                                               30.0            \n",
       "29                                               29.0            \n",
       "30                                               20.0            \n",
       "31                                               33.0            \n",
       "32                                               28.0            \n",
       "33                                               30.0            \n",
       "34                                               38.0            \n",
       "35                                               28.0            \n",
       "36                                               27.0            \n",
       "37                                               35.0            \n",
       "38                                               30.0            \n",
       "39                                               43.0            \n",
       "40                                               31.0            \n",
       "41                                               33.0            \n",
       "42                                               26.0            \n",
       "43                                               38.0            \n",
       "44                                               16.0            \n",
       "45                                               27.0            \n",
       "46                                               28.0            \n",
       "47                                               26.0            \n",
       "48                                               27.0            \n",
       "49                                               33.0            \n",
       "50                                               38.0            \n",
       "\n",
       "    Mean commute time  Ruralness  Median age  Per capita income  \n",
       "0                24.5  40.963183        38.6            24736.0  \n",
       "1                18.9  33.980212        33.6            34191.0  \n",
       "2                24.9  10.190179        37.1            26686.0  \n",
       "3                21.6  43.839676        37.7            23401.0  \n",
       "4                28.4   5.047383        36.0            31458.0  \n",
       "5                24.9  13.847840        36.4            33230.0  \n",
       "6                25.7  12.007369        40.6            39906.0  \n",
       "7                25.7  16.703343        39.6            31118.0  \n",
       "9                26.7   8.836969        41.6            27598.0  \n",
       "10               27.7  24.933820        36.2            26678.0  \n",
       "11               27.2   8.072625        38.5            30970.0  \n",
       "12               20.4  29.421874        35.7            24280.0  \n",
       "13               28.5  11.512130        37.4            31502.0  \n",
       "14               23.4  27.556394        37.4            26117.0  \n",
       "15               18.9  35.980672        38.0            28872.0  \n",
       "16               19.2  25.801842        36.2            28478.0  \n",
       "17               23.0  41.619527        38.6            24802.0  \n",
       "18               25.2  26.813749        36.2            25515.0  \n",
       "19               23.7  61.340178        44.0            28473.0  \n",
       "20               32.4  12.803574        38.3            37756.0  \n",
       "21               29.0   8.027944        39.4            38069.0  \n",
       "22               24.3  25.432766        39.5            27549.0  \n",
       "23               23.2  26.727640        37.8            33225.0  \n",
       "24               24.2  50.654619        36.7            21651.0  \n",
       "25               23.4  29.563827        38.3            27044.0  \n",
       "26               17.9  44.106972        39.8            27309.0  \n",
       "27               18.3  26.865465        36.2            28596.0  \n",
       "28               23.9   5.804519        37.5            27253.0  \n",
       "29               26.9  39.696917        42.4            35264.0  \n",
       "30               31.2   5.320446        39.5            37538.0  \n",
       "31               21.7  22.572977        37.2            24459.0  \n",
       "32               32.6  12.127075        38.2            34212.0  \n",
       "33               24.1  33.912566        38.3            26779.0  \n",
       "34               17.3  40.101488        35.2            33107.0  \n",
       "35               23.3  22.076099        39.3            27800.0  \n",
       "36               21.4  33.756425        36.2            25628.0  \n",
       "37               23.2  18.968362        39.1            28822.0  \n",
       "38               26.5  21.343183        40.6            30137.0  \n",
       "39               24.4   9.265348        39.9            31904.0  \n",
       "40               24.1  33.674215        38.8            25521.0  \n",
       "41               16.9  43.348277        36.8            27516.0  \n",
       "42               24.7  33.608962        38.5            26019.0  \n",
       "43               25.9  15.300999        34.2            27828.0  \n",
       "44               21.6   9.417541        30.3            25600.0  \n",
       "45               22.7  61.104514        42.6            30663.0  \n",
       "46               28.1  24.545983        37.8            34967.0  \n",
       "47               26.7  15.951589        37.6            32999.0  \n",
       "48               25.6  51.278310        41.9            24002.0  \n",
       "49               21.9  29.846179        39.1            29253.0  \n",
       "50               18.1  35.241987        36.8            30139.0  "
      ]
     },
     "execution_count": 55,
     "metadata": {},
     "output_type": "execute_result"
    }
   ],
   "source": [
    "#one remaining problem, we notice that the District of Columbia has a missing value. Since we do not count the District of Columbia among the 50 states, and since it is one of the smaller observations in our data set, let's drop it altogether\n",
    "crashdata.drop(crashdata.index[[8]], inplace = True)\n",
    "crashdata #looks good"
   ]
  },
  {
   "cell_type": "code",
   "execution_count": 56,
   "metadata": {},
   "outputs": [
    {
     "data": {
      "text/plain": [
       "Index(['State', 'Number_of_fatalities_2015',\n",
       "       'Fatality_rate_per_100_million_VMT_2015', 'Poor_Roads',\n",
       "       'Percent_of_fatal_accidents_involving_BAC_above_legal_limit',\n",
       "       'Mean_commute_time', 'Ruralness', 'Median_age', 'Per_capita_income'],\n",
       "      dtype='object')"
      ]
     },
     "execution_count": 56,
     "metadata": {},
     "output_type": "execute_result"
    }
   ],
   "source": [
    "#one last housekeeping item; let's replace all spaces in our column names with underscores so as to avoid any reference errors in future sections:\n",
    "crashdata.columns = [c.replace(' ', '_') for c in crashdata.columns]\n",
    "crashdata.columns #good. We are now finished with the data cleaning step"
   ]
  },
  {
   "cell_type": "markdown",
   "metadata": {},
   "source": [
    "<a id='Explore the Data'></a>"
   ]
  },
  {
   "cell_type": "markdown",
   "metadata": {},
   "source": [
    "## Step 2: Explore the Data"
   ]
  },
  {
   "cell_type": "markdown",
   "metadata": {},
   "source": [
    "Now that we have our data consolidated, we can proceed to do some exploratory data anaylsis"
   ]
  },
  {
   "cell_type": "code",
   "execution_count": 57,
   "metadata": {},
   "outputs": [
    {
     "data": {
      "text/plain": [
       "State                                                          object\n",
       "Number_of_fatalities_2015                                     float64\n",
       "Fatality_rate_per_100_million_VMT_2015                        float64\n",
       "Poor_Roads                                                    float64\n",
       "Percent_of_fatal_accidents_involving_BAC_above_legal_limit    float64\n",
       "Mean_commute_time                                             float64\n",
       "Ruralness                                                     float64\n",
       "Median_age                                                    float64\n",
       "Per_capita_income                                             float64\n",
       "dtype: object"
      ]
     },
     "execution_count": 57,
     "metadata": {},
     "output_type": "execute_result"
    }
   ],
   "source": [
    "#checking one last time that our data types are correct\n",
    "crashdata.dtypes #looks good"
   ]
  },
  {
   "cell_type": "markdown",
   "metadata": {},
   "source": [
    "### Looking at total number of crash fatalities by state"
   ]
  },
  {
   "cell_type": "code",
   "execution_count": 58,
   "metadata": {},
   "outputs": [
    {
     "data": {
      "text/plain": [
       "count      50.000000\n",
       "mean      701.380000\n",
       "std       740.166195\n",
       "min        45.000000\n",
       "25%       251.000000\n",
       "50%       538.500000\n",
       "75%       887.000000\n",
       "max      3516.000000\n",
       "Name: Number_of_fatalities_2015, dtype: float64"
      ]
     },
     "execution_count": 58,
     "metadata": {},
     "output_type": "execute_result"
    }
   ],
   "source": [
    "#starting univariate analysis\n",
    "crashes=crashdata[\"Number_of_fatalities_2015\"]#variable of interest is number of fatal crashes\n",
    "#centrality\n",
    "crashes.describe() #descriptive statistics for variable of interest"
   ]
  },
  {
   "cell_type": "code",
   "execution_count": 59,
   "metadata": {},
   "outputs": [
    {
     "data": {
      "text/plain": [
       "1.0552998296501042"
      ]
     },
     "execution_count": 59,
     "metadata": {},
     "output_type": "execute_result"
    }
   ],
   "source": [
    "#dispersion (coefficient of variation)\n",
    "crashes.std()/crashes.mean()"
   ]
  },
  {
   "cell_type": "code",
   "execution_count": 60,
   "metadata": {},
   "outputs": [
    {
     "data": {
      "text/plain": [
       "2.4477006596849407"
      ]
     },
     "execution_count": 60,
     "metadata": {},
     "output_type": "execute_result"
    }
   ],
   "source": [
    "#skewness\n",
    "crashes.skew() "
   ]
  },
  {
   "cell_type": "code",
   "execution_count": null,
   "metadata": {
    "collapsed": true
   },
   "outputs": [],
   "source": [
    "#kurtosis\n",
    "crashes.kurtosis()"
   ]
  },
  {
   "cell_type": "code",
   "execution_count": 61,
   "metadata": {},
   "outputs": [
    {
     "name": "stdout",
     "output_type": "stream",
     "text": [
      "Current size: [6.4, 4.8]\n"
     ]
    }
   ],
   "source": [
    "#creating bar chart for our variable of interest. First, we need to import a package to help us create a bar chart\n",
    "import matplotlib.pyplot as plt; plt.rcdefaults()\n",
    "import numpy as np\n",
    "import matplotlib.pyplot as plt\n",
    "\n",
    "states=crashdata.iloc[:,0] #creating variable for state names which will become one of our axis\n",
    "y_pos = np.arange(len(states))\n",
    "\n",
    "#expanding bar chart dimensions, since a default bar chart is likely to be too small to fit 50 data points\n",
    "fig_size = plt.rcParams[\"figure.figsize\"]\n",
    "print (\"Current size:\", fig_size)\n",
    "fig_size[0] = 12\n",
    "fig_size[1] = 11\n",
    "plt.rcParams[\"figure.figsize\"] = fig_size"
   ]
  },
  {
   "cell_type": "code",
   "execution_count": 62,
   "metadata": {},
   "outputs": [
    {
     "data": {
      "image/png": "[encoded data removed]",
      "text/plain": [
       "<matplotlib.figure.Figure at 0x1370f4c9240>"
      ]
     },
     "metadata": {},
     "output_type": "display_data"
    }
   ],
   "source": [
    "#now we can plot our chart\n",
    "plt.barh(y_pos, crashes, align='center', alpha=1.0)\n",
    "plt.yticks(y_pos, states)\n",
    "plt.xlabel('Crashes')\n",
    "plt.title('Fatal Crashes by State')\n",
    "\n",
    "plt.show()"
   ]
  },
  {
   "cell_type": "markdown",
   "metadata": {},
   "source": [
    "### Looking at fatal crash rates by state"
   ]
  },
  {
   "cell_type": "markdown",
   "metadata": {},
   "source": [
    "Getting the absolute number of crashes by state is interesting, but more populated states will likely have more fatalities."
   ]
  },
  {
   "cell_type": "code",
   "execution_count": 64,
   "metadata": {},
   "outputs": [
    {
     "data": {
      "text/plain": [
       "count    50.000000\n",
       "mean      1.153400\n",
       "std       0.296515\n",
       "min       0.520000\n",
       "25%       0.935000\n",
       "50%       1.200000\n",
       "75%       1.340000\n",
       "max       1.890000\n",
       "Name: Fatality_rate_per_100_million_VMT_2015, dtype: float64"
      ]
     },
     "execution_count": 64,
     "metadata": {},
     "output_type": "execute_result"
    }
   ],
   "source": [
    "#let's see how the states compare on a more relative dimension: the number of fatalities per 100 million vehicle miles traveles (VMT)\n",
    "crashesVMT=crashdata['Fatality_rate_per_100_million_VMT_2015']\n",
    "#running some descriptives\n",
    "#centrality\n",
    "crashesVMT.describe() "
   ]
  },
  {
   "cell_type": "code",
   "execution_count": 65,
   "metadata": {},
   "outputs": [
    {
     "data": {
      "text/plain": [
       "0.00042275872454240553"
      ]
     },
     "execution_count": 65,
     "metadata": {},
     "output_type": "execute_result"
    }
   ],
   "source": [
    "#dispersion (coefficient of variation)\n",
    "crashesVMT.std()/crashes.mean()"
   ]
  },
  {
   "cell_type": "code",
   "execution_count": 66,
   "metadata": {},
   "outputs": [
    {
     "data": {
      "text/plain": [
       "0.24414283759824798"
      ]
     },
     "execution_count": 66,
     "metadata": {},
     "output_type": "execute_result"
    }
   ],
   "source": [
    "#skewness\n",
    "crashesVMT.skew()"
   ]
  },
  {
   "cell_type": "code",
   "execution_count": 67,
   "metadata": {},
   "outputs": [
    {
     "data": {
      "text/plain": [
       "0.010166400283072363"
      ]
     },
     "execution_count": 67,
     "metadata": {},
     "output_type": "execute_result"
    }
   ],
   "source": [
    "#kurtosis\n",
    "crashesVMT.kurtosis()"
   ]
  },
  {
   "cell_type": "code",
   "execution_count": 68,
   "metadata": {},
   "outputs": [
    {
     "data": {
      "image/png": "[encoded data removed]",
      "text/plain": [
       "<matplotlib.figure.Figure at 0x1370f4c9a58>"
      ]
     },
     "metadata": {},
     "output_type": "display_data"
    }
   ],
   "source": [
    "#create a bar chart\n",
    "plt.barh(y_pos, crashesVMT, align='center', alpha=0.5 )\n",
    "plt.yticks(y_pos, states)\n",
    "plt.xlabel('Fatal Crashes per 100 million VMT')\n",
    "plt.title('Fatal Crash Rates by State')\n",
    "\n",
    "plt.show()"
   ]
  },
  {
   "cell_type": "markdown",
   "metadata": {},
   "source": [
    "It looks like comparing states based on their relative fatality rates is more instructive than using absolute amounts.\n",
    "Let's stick to using these rates "
   ]
  },
  {
   "cell_type": "code",
   "execution_count": 69,
   "metadata": {},
   "outputs": [
    {
     "data": {
      "text/plain": [
       "0.40500000000000025"
      ]
     },
     "execution_count": 69,
     "metadata": {},
     "output_type": "execute_result"
    }
   ],
   "source": [
    "#just to make sure we don't have any obvious outliers lets find the IQR for this variable\n",
    "q25,q75=crashesVMT.quantile([0.25,0.75])\n",
    "#Computing the distance between them or IQR:\n",
    "IQR=q75-q25\n",
    "IQR"
   ]
  },
  {
   "cell_type": "code",
   "execution_count": 70,
   "metadata": {},
   "outputs": [
    {
     "data": {
      "text/plain": [
       "1.9475000000000007"
      ]
     },
     "execution_count": 70,
     "metadata": {},
     "output_type": "execute_result"
    }
   ],
   "source": [
    "#setting a maximum and minimum threshold for detecting outliers\n",
    "capHigh = q75 + IQR*1.5\n",
    "capHigh"
   ]
  },
  {
   "cell_type": "code",
   "execution_count": 71,
   "metadata": {},
   "outputs": [
    {
     "data": {
      "text/plain": [
       "0.32749999999999968"
      ]
     },
     "execution_count": 71,
     "metadata": {},
     "output_type": "execute_result"
    }
   ],
   "source": [
    "capLow=q25 - IQR*1.5\n",
    "capLow"
   ]
  },
  {
   "cell_type": "markdown",
   "metadata": {},
   "source": [
    "It looks like we don't have any states above or below these thresholds, so we can proceed with our analysis without the need to remove outliers"
   ]
  },
  {
   "cell_type": "markdown",
   "metadata": {},
   "source": [
    "### Seeking an explanation: correlations"
   ]
  },
  {
   "cell_type": "markdown",
   "metadata": {},
   "source": [
    "Now that we have seen that some states have higher rates of fatal crashes, let's try to figure out why this may be.\n",
    "To do this, lets take a look at some of the variables in our data set and see if they can't help to uncover some relationships"
   ]
  },
  {
   "cell_type": "code",
   "execution_count": 72,
   "metadata": {},
   "outputs": [
    {
     "data": {
      "text/html": [
       "<div>\n",
       "<style>\n",
       "    .dataframe thead tr:only-child th {\n",
       "        text-align: right;\n",
       "    }\n",
       "\n",
       "    .dataframe thead th {\n",
       "        text-align: left;\n",
       "    }\n",
       "\n",
       "    .dataframe tbody tr th {\n",
       "        vertical-align: top;\n",
       "    }\n",
       "</style>\n",
       "<table border=\"1\" class=\"dataframe\">\n",
       "  <thead>\n",
       "    <tr style=\"text-align: right;\">\n",
       "      <th></th>\n",
       "      <th>Fatality_rate_per_100_million_VMT_2015</th>\n",
       "      <th>Percent_of_fatal_accidents_involving_BAC_above_legal_limit</th>\n",
       "    </tr>\n",
       "  </thead>\n",
       "  <tbody>\n",
       "    <tr>\n",
       "      <th>Fatality_rate_per_100_million_VMT_2015</th>\n",
       "      <td>1.000000</td>\n",
       "      <td>0.082138</td>\n",
       "    </tr>\n",
       "    <tr>\n",
       "      <th>Percent_of_fatal_accidents_involving_BAC_above_legal_limit</th>\n",
       "      <td>0.082138</td>\n",
       "      <td>1.000000</td>\n",
       "    </tr>\n",
       "  </tbody>\n",
       "</table>\n",
       "</div>"
      ],
      "text/plain": [
       "                                                    Fatality_rate_per_100_million_VMT_2015  \\\n",
       "Fatality_rate_per_100_million_VMT_2015                                            1.000000   \n",
       "Percent_of_fatal_accidents_involving_BAC_above_...                                0.082138   \n",
       "\n",
       "                                                    Percent_of_fatal_accidents_involving_BAC_above_legal_limit  \n",
       "Fatality_rate_per_100_million_VMT_2015                                                       0.082138           \n",
       "Percent_of_fatal_accidents_involving_BAC_above_...                                           1.000000           "
      ]
     },
     "execution_count": 72,
     "metadata": {},
     "output_type": "execute_result"
    }
   ],
   "source": [
    "#starting with some simple correlation coefficients\n",
    "#first, let's make a variable to compare to our fatal crash rate figures\n",
    "#lets see how the presence of alocohol over the legally allowable limit in fatal crashes is correlated with fatal crash rates\n",
    "crashesVMTalcohol=crashdata.iloc[:,[2,4]]\n",
    "crashesVMTalcohol.corr() #seems to be a pretty weak correlation"
   ]
  },
  {
   "cell_type": "code",
   "execution_count": 83,
   "metadata": {
    "collapsed": true
   },
   "outputs": [],
   "source": [
    "crashesVMTalcoholcorr=0.082138 #let's save this value as a variable to be plotted in a later step"
   ]
  },
  {
   "cell_type": "code",
   "execution_count": 84,
   "metadata": {
    "collapsed": true
   },
   "outputs": [],
   "source": [
    "#let's make some more correlations with our other variables and fatal crash rates\n",
    "crashesVMTrural=crashdata.iloc[:,[2,6]] #this variable will show us how ruralness and crash rates are correlated. We might expect that in more rural areas, crash rates would be higher due to higher road speeds and fewer road safety features, among other things\n",
    "crashesVMTroadquality=crashdata.iloc[:,[2,3]] #this varaible will tell us how the poorness of road quality in a state is correlated with fatal crash rates. We would expect there to be a positive correlation; that is, as the poorness of road quality increases, crash rates would also increase\n",
    "crashesVMTtraveltime=crashdata.iloc[:,[2,5]] #to some extent, commute times are a correlate of urban/ruralness; we might expect that the higher the commute time, the lower the ruralness rating of a state and thus we would also expect crash rates to fall with an increase in commute time\n",
    "crashesVMTage=crashdata.iloc[:,[2,7]] #we may not expect a strong correlation here given the shape and direction of the relationship between age and fatal crashes. Indeed, we probably expect that younger and older populations both experience more crashes than middle-aged populations\n",
    "crashesVMTincome=crashdata.iloc[:,[2,8]] #we would expect that states with a higher per capita income may spend more on infrastructure maintenance and upgrades than those with lower per capita incomes. We might also expect that higher incomes translate to newer and safer cars, or a variety of other phenomenon that may be associated with lower fatal crash rates"
   ]
  },
  {
   "cell_type": "code",
   "execution_count": 85,
   "metadata": {},
   "outputs": [],
   "source": [
    "#let's catalogue each of these correlations first by finding the correlation, and then by creating a variable equal to the correlation coefficient. We will use these coefficients and graph them in the following step.\n",
    "crashesVMTrural.corr()\n",
    "crashesVMTruralcorr=0.421104  #it seems like our hypothesis wasn't completely misguided. There does appear to be a positivie relationship between higher rates of rualness and crash rates\n",
    "crashesVMTroadquality.corr()\n",
    "crashesVMTroadqualitycorr=-0.403843 #this is somewhat surprising, it looks like as the percentage of roads that are rated 'poor' increases, crash rates tend to fall; furthermore, this relationship appears to be moderately strong\n",
    "crashesVMTtraveltime.corr()\n",
    "crashesVMTtraveltimecorr=-0.427239   #as our intuition suggested, as commute times increase, crash rates tend to fall\n",
    "crashesVMTage.corr()\n",
    "crashesVMTagecorr=-0.176086 #as we also predicted, this variable is a difficult one to draw many conclusions about given the non-linear relationship between age and fatal crash rates that we hypothesized above\n",
    "crashesVMTincome.corr()\n",
    "crashesVMTincomecorr= -0.660551"
   ]
  },
  {
   "cell_type": "code",
   "execution_count": 86,
   "metadata": {},
   "outputs": [
    {
     "data": {
      "image/png": "[encoded data removed]",
      "text/plain": [
       "<matplotlib.figure.Figure at 0x1370f662748>"
      ]
     },
     "metadata": {},
     "output_type": "display_data"
    }
   ],
   "source": [
    "#now that we have variables for the correlations we are interested in studying, let's compute our correlation coefficients in one place:\n",
    "#lets make a graph of these correlation coefficients\n",
    "explanatoryvariables=['percent alcohol', 'ruralness', 'poor road quality', 'mean travel time', 'median age', 'per capita income']  \n",
    "coefficients=[crashesVMTalcoholcorr, crashesVMTruralcorr, crashesVMTroadqualitycorr, crashesVMTtraveltimecorr, crashesVMTagecorr, crashesVMTincomecorr]\n",
    "dict={'explanatoryvariables':explanatoryvariables, 'coefficients':coefficients}\n",
    "correlationdf=pd.DataFrame.from_dict(dict)\n",
    "explanvar=correlationdf.iloc[:,[1]]\n",
    "yy_pos = np.arange(len(explanvar))\n",
    "\n",
    "plt.barh(yy_pos, coefficients, align='center', alpha=0.5)\n",
    "plt.yticks(yy_pos, explanvar['explanatoryvariables'])\n",
    "plt.xlabel('correlation coefficient')\n",
    "plt.title('Relationship between explanatory variables and crash rates')\n",
    "\n",
    "plt.show()"
   ]
  },
  {
   "cell_type": "code",
   "execution_count": 89,
   "metadata": {},
   "outputs": [
    {
     "name": "stdout",
     "output_type": "stream",
     "text": [
      "Pearson -0.403842942339  \t Is significant? True\n",
      "Pearson 0.0821376426101  \t Is significant? False\n",
      "Pearson -0.4272386482  \t Is significant? True\n",
      "Pearson 0.421104134787  \t Is significant? True\n",
      "Pearson -0.17608577864  \t Is significant? False\n",
      "Pearson -0.660550802282  \t Is significant? True\n"
     ]
    }
   ],
   "source": [
    "#a faster way of computing correlation coefficients in one place:\n",
    "from scipy.stats import pearsonr\n",
    "\n",
    "explanans=crashdata.columns[[3,4,5,6,7,8]]\n",
    "for x in explanans:\n",
    "    p=pearsonr(crashdata[x],crashdata['Fatality_rate_per_100_million_VMT_2015'])\n",
    "    print('Pearson',p[0],' \\t Is significant?',p[1]<0.05)"
   ]
  },
  {
   "cell_type": "markdown",
   "metadata": {},
   "source": [
    "<a id='Run a Regression'></a>"
   ]
  },
  {
   "cell_type": "markdown",
   "metadata": {},
   "source": [
    "## Step 3: Run a Regression"
   ]
  },
  {
   "cell_type": "markdown",
   "metadata": {},
   "source": [
    "### Towards an explanation: running a regression"
   ]
  },
  {
   "cell_type": "markdown",
   "metadata": {},
   "source": [
    "Let's continue our exploration of explanatory variables by running a regression"
   ]
  },
  {
   "cell_type": "code",
   "execution_count": 90,
   "metadata": {},
   "outputs": [
    {
     "data": {
      "text/html": [
       "<div>\n",
       "<style>\n",
       "    .dataframe thead tr:only-child th {\n",
       "        text-align: right;\n",
       "    }\n",
       "\n",
       "    .dataframe thead th {\n",
       "        text-align: left;\n",
       "    }\n",
       "\n",
       "    .dataframe tbody tr th {\n",
       "        vertical-align: top;\n",
       "    }\n",
       "</style>\n",
       "<table border=\"1\" class=\"dataframe\">\n",
       "  <thead>\n",
       "    <tr style=\"text-align: right;\">\n",
       "      <th></th>\n",
       "      <th>Poor_Roads</th>\n",
       "      <th>Percent_of_fatal_accidents_involving_BAC_above_legal_limit</th>\n",
       "      <th>Mean_commute_time</th>\n",
       "      <th>Ruralness</th>\n",
       "      <th>Median_age</th>\n",
       "      <th>Per_capita_income</th>\n",
       "    </tr>\n",
       "  </thead>\n",
       "  <tbody>\n",
       "    <tr>\n",
       "      <th>Poor_Roads</th>\n",
       "      <td>1.000000</td>\n",
       "      <td>0.287530</td>\n",
       "      <td>0.342117</td>\n",
       "      <td>-0.334950</td>\n",
       "      <td>0.158869</td>\n",
       "      <td>0.400099</td>\n",
       "    </tr>\n",
       "    <tr>\n",
       "      <th>Percent_of_fatal_accidents_involving_BAC_above_legal_limit</th>\n",
       "      <td>0.287530</td>\n",
       "      <td>1.000000</td>\n",
       "      <td>-0.135938</td>\n",
       "      <td>-0.028315</td>\n",
       "      <td>0.124297</td>\n",
       "      <td>0.227612</td>\n",
       "    </tr>\n",
       "    <tr>\n",
       "      <th>Mean_commute_time</th>\n",
       "      <td>0.342117</td>\n",
       "      <td>-0.135938</td>\n",
       "      <td>1.000000</td>\n",
       "      <td>-0.512742</td>\n",
       "      <td>0.284860</td>\n",
       "      <td>0.428438</td>\n",
       "    </tr>\n",
       "    <tr>\n",
       "      <th>Ruralness</th>\n",
       "      <td>-0.334950</td>\n",
       "      <td>-0.028315</td>\n",
       "      <td>-0.512742</td>\n",
       "      <td>1.000000</td>\n",
       "      <td>0.270930</td>\n",
       "      <td>-0.424281</td>\n",
       "    </tr>\n",
       "    <tr>\n",
       "      <th>Median_age</th>\n",
       "      <td>0.158869</td>\n",
       "      <td>0.124297</td>\n",
       "      <td>0.284860</td>\n",
       "      <td>0.270930</td>\n",
       "      <td>1.000000</td>\n",
       "      <td>0.179856</td>\n",
       "    </tr>\n",
       "    <tr>\n",
       "      <th>Per_capita_income</th>\n",
       "      <td>0.400099</td>\n",
       "      <td>0.227612</td>\n",
       "      <td>0.428438</td>\n",
       "      <td>-0.424281</td>\n",
       "      <td>0.179856</td>\n",
       "      <td>1.000000</td>\n",
       "    </tr>\n",
       "  </tbody>\n",
       "</table>\n",
       "</div>"
      ],
      "text/plain": [
       "                                                    Poor_Roads  \\\n",
       "Poor_Roads                                            1.000000   \n",
       "Percent_of_fatal_accidents_involving_BAC_above_...    0.287530   \n",
       "Mean_commute_time                                     0.342117   \n",
       "Ruralness                                            -0.334950   \n",
       "Median_age                                            0.158869   \n",
       "Per_capita_income                                     0.400099   \n",
       "\n",
       "                                                    Percent_of_fatal_accidents_involving_BAC_above_legal_limit  \\\n",
       "Poor_Roads                                                                                   0.287530            \n",
       "Percent_of_fatal_accidents_involving_BAC_above_...                                           1.000000            \n",
       "Mean_commute_time                                                                           -0.135938            \n",
       "Ruralness                                                                                   -0.028315            \n",
       "Median_age                                                                                   0.124297            \n",
       "Per_capita_income                                                                            0.227612            \n",
       "\n",
       "                                                    Mean_commute_time  \\\n",
       "Poor_Roads                                                   0.342117   \n",
       "Percent_of_fatal_accidents_involving_BAC_above_...          -0.135938   \n",
       "Mean_commute_time                                            1.000000   \n",
       "Ruralness                                                   -0.512742   \n",
       "Median_age                                                   0.284860   \n",
       "Per_capita_income                                            0.428438   \n",
       "\n",
       "                                                    Ruralness  Median_age  \\\n",
       "Poor_Roads                                          -0.334950    0.158869   \n",
       "Percent_of_fatal_accidents_involving_BAC_above_...  -0.028315    0.124297   \n",
       "Mean_commute_time                                   -0.512742    0.284860   \n",
       "Ruralness                                            1.000000    0.270930   \n",
       "Median_age                                           0.270930    1.000000   \n",
       "Per_capita_income                                   -0.424281    0.179856   \n",
       "\n",
       "                                                    Per_capita_income  \n",
       "Poor_Roads                                                   0.400099  \n",
       "Percent_of_fatal_accidents_involving_BAC_above_...           0.227612  \n",
       "Mean_commute_time                                            0.428438  \n",
       "Ruralness                                                   -0.424281  \n",
       "Median_age                                                   0.179856  \n",
       "Per_capita_income                                            1.000000  "
      ]
     },
     "execution_count": 90,
     "metadata": {},
     "output_type": "execute_result"
    }
   ],
   "source": [
    "#first lets make sure that our explanatory variables do not suffer from collinearity \n",
    "crashdata[explanans].corr()"
   ]
  },
  {
   "cell_type": "markdown",
   "metadata": {},
   "source": [
    "No two variables have a coefficient beyond 0.5, and most are around 0.4 or below--indicating a moderate or weak relationship--so let's move forward with our regression model"
   ]
  },
  {
   "cell_type": "code",
   "execution_count": 91,
   "metadata": {},
   "outputs": [
    {
     "data": {
      "text/html": [
       "<table class=\"simpletable\">\n",
       "<caption>OLS Regression Results</caption>\n",
       "<tr>\n",
       "  <th>Dep. Variable:</th>    <td>Fatality_rate_per_100_million_VMT_2015</td> <th>  R-squared:         </th> <td>   0.561</td>\n",
       "</tr>\n",
       "<tr>\n",
       "  <th>Model:</th>                              <td>OLS</td>                  <th>  Adj. R-squared:    </th> <td>   0.500</td>\n",
       "</tr>\n",
       "<tr>\n",
       "  <th>Method:</th>                        <td>Least Squares</td>             <th>  F-statistic:       </th> <td>   9.159</td>\n",
       "</tr>\n",
       "<tr>\n",
       "  <th>Date:</th>                        <td>Fri, 16 Mar 2018</td>            <th>  Prob (F-statistic):</th> <td>1.83e-06</td>\n",
       "</tr>\n",
       "<tr>\n",
       "  <th>Time:</th>                            <td>03:28:32</td>                <th>  Log-Likelihood:    </th> <td>  10.923</td>\n",
       "</tr>\n",
       "<tr>\n",
       "  <th>No. Observations:</th>                 <td>    50</td>                 <th>  AIC:               </th> <td>  -7.847</td>\n",
       "</tr>\n",
       "<tr>\n",
       "  <th>Df Residuals:</th>                     <td>    43</td>                 <th>  BIC:               </th> <td>   5.538</td>\n",
       "</tr>\n",
       "<tr>\n",
       "  <th>Df Model:</th>                         <td>     6</td>                 <th>                     </th>     <td> </td>   \n",
       "</tr>\n",
       "<tr>\n",
       "  <th>Covariance Type:</th>                 <td>nonrobust</td>               <th>                     </th>     <td> </td>   \n",
       "</tr>\n",
       "</table>\n",
       "<table class=\"simpletable\">\n",
       "<tr>\n",
       "                               <td></td>                                 <th>coef</th>     <th>std err</th>      <th>t</th>      <th>P>|t|</th>  <th>[0.025</th>    <th>0.975]</th>  \n",
       "</tr>\n",
       "<tr>\n",
       "  <th>Intercept</th>                                                  <td>    2.3866</td> <td>    0.521</td> <td>    4.577</td> <td> 0.000</td> <td>    1.335</td> <td>    3.438</td>\n",
       "</tr>\n",
       "<tr>\n",
       "  <th>Percent_of_fatal_accidents_involving_BAC_above_legal_limit</th> <td>    0.0179</td> <td>    0.007</td> <td>    2.648</td> <td> 0.011</td> <td>    0.004</td> <td>    0.032</td>\n",
       "</tr>\n",
       "<tr>\n",
       "  <th>Poor_Roads</th>                                                 <td>   -0.0049</td> <td>    0.003</td> <td>   -1.643</td> <td> 0.108</td> <td>   -0.011</td> <td>    0.001</td>\n",
       "</tr>\n",
       "<tr>\n",
       "  <th>Mean_commute_time</th>                                          <td>    0.0058</td> <td>    0.012</td> <td>    0.492</td> <td> 0.625</td> <td>   -0.018</td> <td>    0.030</td>\n",
       "</tr>\n",
       "<tr>\n",
       "  <th>Ruralness</th>                                                  <td>    0.0041</td> <td>    0.003</td> <td>    1.360</td> <td> 0.181</td> <td>   -0.002</td> <td>    0.010</td>\n",
       "</tr>\n",
       "<tr>\n",
       "  <th>Median_age</th>                                                 <td>   -0.0195</td> <td>    0.016</td> <td>   -1.205</td> <td> 0.235</td> <td>   -0.052</td> <td>    0.013</td>\n",
       "</tr>\n",
       "<tr>\n",
       "  <th>Per_capita_income</th>                                          <td>-4.008e-05</td> <td> 8.82e-06</td> <td>   -4.545</td> <td> 0.000</td> <td>-5.79e-05</td> <td>-2.23e-05</td>\n",
       "</tr>\n",
       "</table>\n",
       "<table class=\"simpletable\">\n",
       "<tr>\n",
       "  <th>Omnibus:</th>       <td> 1.021</td> <th>  Durbin-Watson:     </th> <td>   2.071</td>\n",
       "</tr>\n",
       "<tr>\n",
       "  <th>Prob(Omnibus):</th> <td> 0.600</td> <th>  Jarque-Bera (JB):  </th> <td>   0.592</td>\n",
       "</tr>\n",
       "<tr>\n",
       "  <th>Skew:</th>          <td> 0.262</td> <th>  Prob(JB):          </th> <td>   0.744</td>\n",
       "</tr>\n",
       "<tr>\n",
       "  <th>Kurtosis:</th>      <td> 3.092</td> <th>  Cond. No.          </th> <td>5.21e+05</td>\n",
       "</tr>\n",
       "</table>"
      ],
      "text/plain": [
       "<class 'statsmodels.iolib.summary.Summary'>\n",
       "\"\"\"\n",
       "                                      OLS Regression Results                                      \n",
       "==================================================================================================\n",
       "Dep. Variable:     Fatality_rate_per_100_million_VMT_2015   R-squared:                       0.561\n",
       "Model:                                                OLS   Adj. R-squared:                  0.500\n",
       "Method:                                     Least Squares   F-statistic:                     9.159\n",
       "Date:                                    Fri, 16 Mar 2018   Prob (F-statistic):           1.83e-06\n",
       "Time:                                            03:28:32   Log-Likelihood:                 10.923\n",
       "No. Observations:                                      50   AIC:                            -7.847\n",
       "Df Residuals:                                          43   BIC:                             5.538\n",
       "Df Model:                                               6                                         \n",
       "Covariance Type:                                nonrobust                                         \n",
       "==============================================================================================================================\n",
       "                                                                 coef    std err          t      P>|t|      [0.025      0.975]\n",
       "------------------------------------------------------------------------------------------------------------------------------\n",
       "Intercept                                                      2.3866      0.521      4.577      0.000       1.335       3.438\n",
       "Percent_of_fatal_accidents_involving_BAC_above_legal_limit     0.0179      0.007      2.648      0.011       0.004       0.032\n",
       "Poor_Roads                                                    -0.0049      0.003     -1.643      0.108      -0.011       0.001\n",
       "Mean_commute_time                                              0.0058      0.012      0.492      0.625      -0.018       0.030\n",
       "Ruralness                                                      0.0041      0.003      1.360      0.181      -0.002       0.010\n",
       "Median_age                                                    -0.0195      0.016     -1.205      0.235      -0.052       0.013\n",
       "Per_capita_income                                          -4.008e-05   8.82e-06     -4.545      0.000   -5.79e-05   -2.23e-05\n",
       "==============================================================================\n",
       "Omnibus:                        1.021   Durbin-Watson:                   2.071\n",
       "Prob(Omnibus):                  0.600   Jarque-Bera (JB):                0.592\n",
       "Skew:                           0.262   Prob(JB):                        0.744\n",
       "Kurtosis:                       3.092   Cond. No.                     5.21e+05\n",
       "==============================================================================\n",
       "\n",
       "Warnings:\n",
       "[1] Standard Errors assume that the covariance matrix of the errors is correctly specified.\n",
       "[2] The condition number is large, 5.21e+05. This might indicate that there are\n",
       "strong multicollinearity or other numerical problems.\n",
       "\"\"\""
      ]
     },
     "execution_count": 91,
     "metadata": {},
     "output_type": "execute_result"
    }
   ],
   "source": [
    "#we need to import a package to help us run a regression\n",
    "import statsmodels.formula.api as smf\n",
    "\n",
    "formula='Fatality_rate_per_100_million_VMT_2015 ~ Percent_of_fatal_accidents_involving_BAC_above_legal_limit + Poor_Roads + Mean_commute_time + Ruralness + Median_age + Per_capita_income'\n",
    "LinRegEPI = smf.ols(formula, data=crashdata).fit()\n",
    "\n",
    "LinRegEPI.summary()"
   ]
  },
  {
   "cell_type": "markdown",
   "metadata": {},
   "source": [
    "As it turns out, only percent alcohol and per capita income seem to have a significant effect on crash fatality rates; the r-squared value suggests that a fair bit of the variation in fatality rates is explained by variation in the included variables"
   ]
  },
  {
   "cell_type": "code",
   "execution_count": 92,
   "metadata": {},
   "outputs": [
    {
     "data": {
      "text/html": [
       "<div>\n",
       "<style>\n",
       "    .dataframe thead tr:only-child th {\n",
       "        text-align: right;\n",
       "    }\n",
       "\n",
       "    .dataframe thead th {\n",
       "        text-align: left;\n",
       "    }\n",
       "\n",
       "    .dataframe tbody tr th {\n",
       "        vertical-align: top;\n",
       "    }\n",
       "</style>\n",
       "<table border=\"1\" class=\"dataframe\">\n",
       "  <thead>\n",
       "    <tr style=\"text-align: right;\">\n",
       "      <th></th>\n",
       "      <th>Coefficients</th>\n",
       "      <th>Significant?</th>\n",
       "    </tr>\n",
       "  </thead>\n",
       "  <tbody>\n",
       "    <tr>\n",
       "      <th>Intercept</th>\n",
       "      <td>2.386575</td>\n",
       "      <td>True</td>\n",
       "    </tr>\n",
       "    <tr>\n",
       "      <th>Percent_of_fatal_accidents_involving_BAC_above_legal_limit</th>\n",
       "      <td>0.017904</td>\n",
       "      <td>True</td>\n",
       "    </tr>\n",
       "    <tr>\n",
       "      <th>Poor_Roads</th>\n",
       "      <td>-0.004902</td>\n",
       "      <td>False</td>\n",
       "    </tr>\n",
       "    <tr>\n",
       "      <th>Mean_commute_time</th>\n",
       "      <td>0.005832</td>\n",
       "      <td>False</td>\n",
       "    </tr>\n",
       "    <tr>\n",
       "      <th>Ruralness</th>\n",
       "      <td>0.004122</td>\n",
       "      <td>False</td>\n",
       "    </tr>\n",
       "    <tr>\n",
       "      <th>Median_age</th>\n",
       "      <td>-0.019467</td>\n",
       "      <td>False</td>\n",
       "    </tr>\n",
       "    <tr>\n",
       "      <th>Per_capita_income</th>\n",
       "      <td>-0.000040</td>\n",
       "      <td>True</td>\n",
       "    </tr>\n",
       "  </tbody>\n",
       "</table>\n",
       "</div>"
      ],
      "text/plain": [
       "                                                    Coefficients  Significant?\n",
       "Intercept                                               2.386575          True\n",
       "Percent_of_fatal_accidents_involving_BAC_above_...      0.017904          True\n",
       "Poor_Roads                                             -0.004902         False\n",
       "Mean_commute_time                                       0.005832         False\n",
       "Ruralness                                               0.004122         False\n",
       "Median_age                                             -0.019467         False\n",
       "Per_capita_income                                      -0.000040          True"
      ]
     },
     "execution_count": 92,
     "metadata": {},
     "output_type": "execute_result"
    }
   ],
   "source": [
    "#a simpler way to view regression results\n",
    "pd.concat({'Coefficients':LinRegEPI.params,\n",
    "           'Significant?':LinRegEPI.pvalues<0.05},axis=1)"
   ]
  },
  {
   "cell_type": "markdown",
   "metadata": {},
   "source": [
    "<a id='Map the Data'></a>"
   ]
  },
  {
   "cell_type": "markdown",
   "metadata": {},
   "source": [
    "## Step 4: Map the data"
   ]
  },
  {
   "cell_type": "markdown",
   "metadata": {},
   "source": [
    "While we were able to explain exactly half of the variation in fatal crash rates observed in our data set, we only found two significant explanatory variables. Perhaps there is still more to learn about our data by mapping it. "
   ]
  },
  {
   "cell_type": "code",
   "execution_count": 94,
   "metadata": {},
   "outputs": [
    {
     "data": {
      "text/html": [
       "<div>\n",
       "<style>\n",
       "    .dataframe thead tr:only-child th {\n",
       "        text-align: right;\n",
       "    }\n",
       "\n",
       "    .dataframe thead th {\n",
       "        text-align: left;\n",
       "    }\n",
       "\n",
       "    .dataframe tbody tr th {\n",
       "        vertical-align: top;\n",
       "    }\n",
       "</style>\n",
       "<table border=\"1\" class=\"dataframe\">\n",
       "  <thead>\n",
       "    <tr style=\"text-align: right;\">\n",
       "      <th></th>\n",
       "      <th>STATEFP</th>\n",
       "      <th>STATENS</th>\n",
       "      <th>AFFGEOID</th>\n",
       "      <th>GEOID</th>\n",
       "      <th>STUSPS</th>\n",
       "      <th>NAME</th>\n",
       "      <th>LSAD</th>\n",
       "      <th>ALAND</th>\n",
       "      <th>AWATER</th>\n",
       "      <th>geometry</th>\n",
       "    </tr>\n",
       "  </thead>\n",
       "  <tbody>\n",
       "    <tr>\n",
       "      <th>0</th>\n",
       "      <td>23</td>\n",
       "      <td>01779787</td>\n",
       "      <td>0400000US23</td>\n",
       "      <td>23</td>\n",
       "      <td>ME</td>\n",
       "      <td>Maine</td>\n",
       "      <td>00</td>\n",
       "      <td>79885221885</td>\n",
       "      <td>11748755195</td>\n",
       "      <td>(POLYGON ((-68.92401 43.885407, -68.8747839999...</td>\n",
       "    </tr>\n",
       "    <tr>\n",
       "      <th>1</th>\n",
       "      <td>15</td>\n",
       "      <td>01779782</td>\n",
       "      <td>0400000US15</td>\n",
       "      <td>15</td>\n",
       "      <td>HI</td>\n",
       "      <td>Hawaii</td>\n",
       "      <td>00</td>\n",
       "      <td>16634100855</td>\n",
       "      <td>11777698394</td>\n",
       "      <td>(POLYGON ((-156.049651 19.780452, -156.006267 ...</td>\n",
       "    </tr>\n",
       "    <tr>\n",
       "      <th>2</th>\n",
       "      <td>04</td>\n",
       "      <td>01779777</td>\n",
       "      <td>0400000US04</td>\n",
       "      <td>04</td>\n",
       "      <td>AZ</td>\n",
       "      <td>Arizona</td>\n",
       "      <td>00</td>\n",
       "      <td>294198560125</td>\n",
       "      <td>1027346486</td>\n",
       "      <td>POLYGON ((-114.799683 32.593621, -114.809393 3...</td>\n",
       "    </tr>\n",
       "    <tr>\n",
       "      <th>3</th>\n",
       "      <td>05</td>\n",
       "      <td>00068085</td>\n",
       "      <td>0400000US05</td>\n",
       "      <td>05</td>\n",
       "      <td>AR</td>\n",
       "      <td>Arkansas</td>\n",
       "      <td>00</td>\n",
       "      <td>134771517596</td>\n",
       "      <td>2960191698</td>\n",
       "      <td>POLYGON ((-94.617919 36.499414, -94.3612029999...</td>\n",
       "    </tr>\n",
       "    <tr>\n",
       "      <th>4</th>\n",
       "      <td>10</td>\n",
       "      <td>01779781</td>\n",
       "      <td>0400000US10</td>\n",
       "      <td>10</td>\n",
       "      <td>DE</td>\n",
       "      <td>Delaware</td>\n",
       "      <td>00</td>\n",
       "      <td>5047194742</td>\n",
       "      <td>1398720828</td>\n",
       "      <td>POLYGON ((-75.773786 39.7222, -75.753227999999...</td>\n",
       "    </tr>\n",
       "  </tbody>\n",
       "</table>\n",
       "</div>"
      ],
      "text/plain": [
       "  STATEFP   STATENS     AFFGEOID GEOID STUSPS      NAME LSAD         ALAND  \\\n",
       "0      23  01779787  0400000US23    23     ME     Maine   00   79885221885   \n",
       "1      15  01779782  0400000US15    15     HI    Hawaii   00   16634100855   \n",
       "2      04  01779777  0400000US04    04     AZ   Arizona   00  294198560125   \n",
       "3      05  00068085  0400000US05    05     AR  Arkansas   00  134771517596   \n",
       "4      10  01779781  0400000US10    10     DE  Delaware   00    5047194742   \n",
       "\n",
       "        AWATER                                           geometry  \n",
       "0  11748755195  (POLYGON ((-68.92401 43.885407, -68.8747839999...  \n",
       "1  11777698394  (POLYGON ((-156.049651 19.780452, -156.006267 ...  \n",
       "2   1027346486  POLYGON ((-114.799683 32.593621, -114.809393 3...  \n",
       "3   2960191698  POLYGON ((-94.617919 36.499414, -94.3612029999...  \n",
       "4   1398720828  POLYGON ((-75.773786 39.7222, -75.753227999999...  "
      ]
     },
     "execution_count": 94,
     "metadata": {},
     "output_type": "execute_result"
    }
   ],
   "source": [
    "#let's start by importing a zip file\n",
    "import geopandas as gpd\n",
    "uszipMap = gpd.GeoDataFrame.from_file('cb_2016_us_state_20m') #here is our file\n",
    "uszipMap.head() #checking it out"
   ]
  },
  {
   "cell_type": "code",
   "execution_count": 95,
   "metadata": {},
   "outputs": [
    {
     "data": {
      "text/plain": [
       "STATEFP     object\n",
       "STATENS     object\n",
       "AFFGEOID    object\n",
       "GEOID       object\n",
       "STUSPS      object\n",
       "NAME        object\n",
       "LSAD        object\n",
       "ALAND        int64\n",
       "AWATER       int64\n",
       "geometry    object\n",
       "dtype: object"
      ]
     },
     "execution_count": 95,
     "metadata": {},
     "output_type": "execute_result"
    }
   ],
   "source": [
    "uszipMap.dtypes #looking at data types. We see that we may need to rename the column 'name' to 'state' in order to perform merge"
   ]
  },
  {
   "cell_type": "code",
   "execution_count": 98,
   "metadata": {},
   "outputs": [
    {
     "data": {
      "text/plain": [
       "Index(['STATEFP', 'STATENS', 'AFFGEOID', 'GEOID', 'STUSPS', 'State', 'LSAD',\n",
       "       'ALAND', 'AWATER', 'geometry'],\n",
       "      dtype='object')"
      ]
     },
     "execution_count": 98,
     "metadata": {},
     "output_type": "execute_result"
    }
   ],
   "source": [
    "#renaming column before performing merge\n",
    "uszipMap.rename(columns = {'NAME':'State'}, inplace = True)\n",
    "uszipMap.columns"
   ]
  },
  {
   "cell_type": "code",
   "execution_count": 101,
   "metadata": {},
   "outputs": [
    {
     "data": {
      "text/plain": [
       "Index(['State', 'Number_of_fatalities_2015',\n",
       "       'Fatality_rate_per_100_million_VMT_2015', 'Poor_Roads',\n",
       "       'Percent_of_fatal_accidents_involving_BAC_above_legal_limit',\n",
       "       'Mean_commute_time', 'Ruralness', 'Median_age', 'Per_capita_income',\n",
       "       'STATEFP', 'STATENS', 'AFFGEOID', 'GEOID', 'STUSPS', 'LSAD', 'ALAND',\n",
       "       'AWATER', 'geometry'],\n",
       "      dtype='object')"
      ]
     },
     "execution_count": 101,
     "metadata": {},
     "output_type": "execute_result"
    }
   ],
   "source": [
    "#performing merge\n",
    "mapdata=pd.merge(crashdata,uszipMap)\n",
    "mapdata.columns #checking to make sure merge was successful. #looks good"
   ]
  },
  {
   "cell_type": "code",
   "execution_count": 113,
   "metadata": {
    "scrolled": true
   },
   "outputs": [
    {
     "data": {
      "text/html": [
       "<div>\n",
       "<style>\n",
       "    .dataframe thead tr:only-child th {\n",
       "        text-align: right;\n",
       "    }\n",
       "\n",
       "    .dataframe thead th {\n",
       "        text-align: left;\n",
       "    }\n",
       "\n",
       "    .dataframe tbody tr th {\n",
       "        vertical-align: top;\n",
       "    }\n",
       "</style>\n",
       "<table border=\"1\" class=\"dataframe\">\n",
       "  <thead>\n",
       "    <tr style=\"text-align: right;\">\n",
       "      <th></th>\n",
       "      <th>State</th>\n",
       "      <th>Number_of_fatalities_2015</th>\n",
       "      <th>Fatality_rate_per_100_million_VMT_2015</th>\n",
       "      <th>Poor_Roads</th>\n",
       "      <th>Percent_of_fatal_accidents_involving_BAC_above_legal_limit</th>\n",
       "      <th>Mean_commute_time</th>\n",
       "      <th>Ruralness</th>\n",
       "      <th>Median_age</th>\n",
       "      <th>Per_capita_income</th>\n",
       "      <th>STATEFP</th>\n",
       "      <th>STATENS</th>\n",
       "      <th>AFFGEOID</th>\n",
       "      <th>GEOID</th>\n",
       "      <th>STUSPS</th>\n",
       "      <th>LSAD</th>\n",
       "      <th>ALAND</th>\n",
       "      <th>AWATER</th>\n",
       "      <th>geometry</th>\n",
       "    </tr>\n",
       "  </thead>\n",
       "  <tbody>\n",
       "    <tr>\n",
       "      <th>0</th>\n",
       "      <td>Alabama</td>\n",
       "      <td>849.0</td>\n",
       "      <td>1.26</td>\n",
       "      <td>2.0</td>\n",
       "      <td>29.0</td>\n",
       "      <td>24.5</td>\n",
       "      <td>40.963183</td>\n",
       "      <td>38.6</td>\n",
       "      <td>24736.0</td>\n",
       "      <td>01</td>\n",
       "      <td>01779775</td>\n",
       "      <td>0400000US01</td>\n",
       "      <td>01</td>\n",
       "      <td>AL</td>\n",
       "      <td>00</td>\n",
       "      <td>131173688951</td>\n",
       "      <td>4593686489</td>\n",
       "      <td>POLYGON ((-88.46866248405129 31.8938557116156,...</td>\n",
       "    </tr>\n",
       "    <tr>\n",
       "      <th>1</th>\n",
       "      <td>Alaska</td>\n",
       "      <td>65.0</td>\n",
       "      <td>1.29</td>\n",
       "      <td>21.0</td>\n",
       "      <td>36.0</td>\n",
       "      <td>18.9</td>\n",
       "      <td>33.980212</td>\n",
       "      <td>33.6</td>\n",
       "      <td>34191.0</td>\n",
       "      <td>02</td>\n",
       "      <td>01785533</td>\n",
       "      <td>0400000US02</td>\n",
       "      <td>02</td>\n",
       "      <td>AK</td>\n",
       "      <td>00</td>\n",
       "      <td>1477946266785</td>\n",
       "      <td>245390495931</td>\n",
       "      <td>(POLYGON ((179.481318 51.97530099999999, 179.5...</td>\n",
       "    </tr>\n",
       "    <tr>\n",
       "      <th>2</th>\n",
       "      <td>Arizona</td>\n",
       "      <td>893.0</td>\n",
       "      <td>1.37</td>\n",
       "      <td>15.0</td>\n",
       "      <td>31.0</td>\n",
       "      <td>24.9</td>\n",
       "      <td>10.190179</td>\n",
       "      <td>37.1</td>\n",
       "      <td>26686.0</td>\n",
       "      <td>04</td>\n",
       "      <td>01779777</td>\n",
       "      <td>0400000US04</td>\n",
       "      <td>04</td>\n",
       "      <td>AZ</td>\n",
       "      <td>00</td>\n",
       "      <td>294198560125</td>\n",
       "      <td>1027346486</td>\n",
       "      <td>POLYGON ((-114.799683 32.593621, -114.809393 3...</td>\n",
       "    </tr>\n",
       "    <tr>\n",
       "      <th>3</th>\n",
       "      <td>Arkansas</td>\n",
       "      <td>531.0</td>\n",
       "      <td>1.52</td>\n",
       "      <td>24.0</td>\n",
       "      <td>28.0</td>\n",
       "      <td>21.6</td>\n",
       "      <td>43.839676</td>\n",
       "      <td>37.7</td>\n",
       "      <td>23401.0</td>\n",
       "      <td>05</td>\n",
       "      <td>00068085</td>\n",
       "      <td>0400000US05</td>\n",
       "      <td>05</td>\n",
       "      <td>AR</td>\n",
       "      <td>00</td>\n",
       "      <td>134771517596</td>\n",
       "      <td>2960191698</td>\n",
       "      <td>POLYGON ((-94.617919 36.499414, -94.3612029999...</td>\n",
       "    </tr>\n",
       "    <tr>\n",
       "      <th>4</th>\n",
       "      <td>California</td>\n",
       "      <td>3176.0</td>\n",
       "      <td>0.95</td>\n",
       "      <td>50.0</td>\n",
       "      <td>29.0</td>\n",
       "      <td>28.4</td>\n",
       "      <td>5.047383</td>\n",
       "      <td>36.0</td>\n",
       "      <td>31458.0</td>\n",
       "      <td>06</td>\n",
       "      <td>01779778</td>\n",
       "      <td>0400000US06</td>\n",
       "      <td>06</td>\n",
       "      <td>CA</td>\n",
       "      <td>00</td>\n",
       "      <td>403501101370</td>\n",
       "      <td>20466718403</td>\n",
       "      <td>(POLYGON ((-118.593969 33.467198, -118.484785 ...</td>\n",
       "    </tr>\n",
       "  </tbody>\n",
       "</table>\n",
       "</div>"
      ],
      "text/plain": [
       "        State  Number_of_fatalities_2015  \\\n",
       "0     Alabama                      849.0   \n",
       "1      Alaska                       65.0   \n",
       "2     Arizona                      893.0   \n",
       "3    Arkansas                      531.0   \n",
       "4  California                     3176.0   \n",
       "\n",
       "   Fatality_rate_per_100_million_VMT_2015  Poor_Roads  \\\n",
       "0                                    1.26         2.0   \n",
       "1                                    1.29        21.0   \n",
       "2                                    1.37        15.0   \n",
       "3                                    1.52        24.0   \n",
       "4                                    0.95        50.0   \n",
       "\n",
       "   Percent_of_fatal_accidents_involving_BAC_above_legal_limit  \\\n",
       "0                                               29.0            \n",
       "1                                               36.0            \n",
       "2                                               31.0            \n",
       "3                                               28.0            \n",
       "4                                               29.0            \n",
       "\n",
       "   Mean_commute_time  Ruralness  Median_age  Per_capita_income STATEFP  \\\n",
       "0               24.5  40.963183        38.6            24736.0      01   \n",
       "1               18.9  33.980212        33.6            34191.0      02   \n",
       "2               24.9  10.190179        37.1            26686.0      04   \n",
       "3               21.6  43.839676        37.7            23401.0      05   \n",
       "4               28.4   5.047383        36.0            31458.0      06   \n",
       "\n",
       "    STATENS     AFFGEOID GEOID STUSPS LSAD          ALAND        AWATER  \\\n",
       "0  01779775  0400000US01    01     AL   00   131173688951    4593686489   \n",
       "1  01785533  0400000US02    02     AK   00  1477946266785  245390495931   \n",
       "2  01779777  0400000US04    04     AZ   00   294198560125    1027346486   \n",
       "3  00068085  0400000US05    05     AR   00   134771517596    2960191698   \n",
       "4  01779778  0400000US06    06     CA   00   403501101370   20466718403   \n",
       "\n",
       "                                            geometry  \n",
       "0  POLYGON ((-88.46866248405129 31.8938557116156,...  \n",
       "1  (POLYGON ((179.481318 51.97530099999999, 179.5...  \n",
       "2  POLYGON ((-114.799683 32.593621, -114.809393 3...  \n",
       "3  POLYGON ((-94.617919 36.499414, -94.3612029999...  \n",
       "4  (POLYGON ((-118.593969 33.467198, -118.484785 ...  "
      ]
     },
     "execution_count": 113,
     "metadata": {},
     "output_type": "execute_result"
    }
   ],
   "source": [
    "mapdata.head()"
   ]
  },
  {
   "cell_type": "code",
   "execution_count": 118,
   "metadata": {},
   "outputs": [
    {
     "ename": "AttributeError",
     "evalue": "Unknown property column",
     "output_type": "error",
     "traceback": [
      "\u001b[1;31m---------------------------------------------------------------------------\u001b[0m",
      "\u001b[1;31mAttributeError\u001b[0m                            Traceback (most recent call last)",
      "\u001b[1;32m<ipython-input-118-03fbbb0f5529>\u001b[0m in \u001b[0;36m<module>\u001b[1;34m()\u001b[0m\n\u001b[0;32m      4\u001b[0m \u001b[1;33m\u001b[0m\u001b[0m\n\u001b[0;32m      5\u001b[0m topLayer=mapdata.plot(ax=base,column='Fatality_rate_per_100_million_VMT_2015',cmap='YlGnBu',scheme='Quantiles',k=5,legend=True,\n\u001b[1;32m----> 6\u001b[1;33m                   legend_kwds={'loc': 3,'title':'Fatality Rate'})\n\u001b[0m\u001b[0;32m      7\u001b[0m topLayer.set_title('Crash Fatality Rate by State', \n\u001b[0;32m      8\u001b[0m                    color='black',fontdict={'fontsize':30})\n",
      "\u001b[1;32m~\\Anaconda3\\lib\\site-packages\\pandas\\plotting\\_core.py\u001b[0m in \u001b[0;36m__call__\u001b[1;34m(self, x, y, kind, ax, subplots, sharex, sharey, layout, figsize, use_index, title, grid, legend, style, logx, logy, loglog, xticks, yticks, xlim, ylim, rot, fontsize, colormap, table, yerr, xerr, secondary_y, sort_columns, **kwds)\u001b[0m\n\u001b[0;32m   2625\u001b[0m                           \u001b[0mfontsize\u001b[0m\u001b[1;33m=\u001b[0m\u001b[0mfontsize\u001b[0m\u001b[1;33m,\u001b[0m \u001b[0mcolormap\u001b[0m\u001b[1;33m=\u001b[0m\u001b[0mcolormap\u001b[0m\u001b[1;33m,\u001b[0m \u001b[0mtable\u001b[0m\u001b[1;33m=\u001b[0m\u001b[0mtable\u001b[0m\u001b[1;33m,\u001b[0m\u001b[1;33m\u001b[0m\u001b[0m\n\u001b[0;32m   2626\u001b[0m                           \u001b[0myerr\u001b[0m\u001b[1;33m=\u001b[0m\u001b[0myerr\u001b[0m\u001b[1;33m,\u001b[0m \u001b[0mxerr\u001b[0m\u001b[1;33m=\u001b[0m\u001b[0mxerr\u001b[0m\u001b[1;33m,\u001b[0m \u001b[0msecondary_y\u001b[0m\u001b[1;33m=\u001b[0m\u001b[0msecondary_y\u001b[0m\u001b[1;33m,\u001b[0m\u001b[1;33m\u001b[0m\u001b[0m\n\u001b[1;32m-> 2627\u001b[1;33m                           sort_columns=sort_columns, **kwds)\n\u001b[0m\u001b[0;32m   2628\u001b[0m     \u001b[0m__call__\u001b[0m\u001b[1;33m.\u001b[0m\u001b[0m__doc__\u001b[0m \u001b[1;33m=\u001b[0m \u001b[0mplot_frame\u001b[0m\u001b[1;33m.\u001b[0m\u001b[0m__doc__\u001b[0m\u001b[1;33m\u001b[0m\u001b[0m\n\u001b[0;32m   2629\u001b[0m \u001b[1;33m\u001b[0m\u001b[0m\n",
      "\u001b[1;32m~\\Anaconda3\\lib\\site-packages\\pandas\\plotting\\_core.py\u001b[0m in \u001b[0;36mplot_frame\u001b[1;34m(data, x, y, kind, ax, subplots, sharex, sharey, layout, figsize, use_index, title, grid, legend, style, logx, logy, loglog, xticks, yticks, xlim, ylim, rot, fontsize, colormap, table, yerr, xerr, secondary_y, sort_columns, **kwds)\u001b[0m\n\u001b[0;32m   1867\u001b[0m                  \u001b[0myerr\u001b[0m\u001b[1;33m=\u001b[0m\u001b[0myerr\u001b[0m\u001b[1;33m,\u001b[0m \u001b[0mxerr\u001b[0m\u001b[1;33m=\u001b[0m\u001b[0mxerr\u001b[0m\u001b[1;33m,\u001b[0m\u001b[1;33m\u001b[0m\u001b[0m\n\u001b[0;32m   1868\u001b[0m                  \u001b[0msecondary_y\u001b[0m\u001b[1;33m=\u001b[0m\u001b[0msecondary_y\u001b[0m\u001b[1;33m,\u001b[0m \u001b[0msort_columns\u001b[0m\u001b[1;33m=\u001b[0m\u001b[0msort_columns\u001b[0m\u001b[1;33m,\u001b[0m\u001b[1;33m\u001b[0m\u001b[0m\n\u001b[1;32m-> 1869\u001b[1;33m                  **kwds)\n\u001b[0m\u001b[0;32m   1870\u001b[0m \u001b[1;33m\u001b[0m\u001b[0m\n\u001b[0;32m   1871\u001b[0m \u001b[1;33m\u001b[0m\u001b[0m\n",
      "\u001b[1;32m~\\Anaconda3\\lib\\site-packages\\pandas\\plotting\\_core.py\u001b[0m in \u001b[0;36m_plot\u001b[1;34m(data, x, y, subplots, ax, kind, **kwds)\u001b[0m\n\u001b[0;32m   1692\u001b[0m         \u001b[0mplot_obj\u001b[0m \u001b[1;33m=\u001b[0m \u001b[0mklass\u001b[0m\u001b[1;33m(\u001b[0m\u001b[0mdata\u001b[0m\u001b[1;33m,\u001b[0m \u001b[0msubplots\u001b[0m\u001b[1;33m=\u001b[0m\u001b[0msubplots\u001b[0m\u001b[1;33m,\u001b[0m \u001b[0max\u001b[0m\u001b[1;33m=\u001b[0m\u001b[0max\u001b[0m\u001b[1;33m,\u001b[0m \u001b[0mkind\u001b[0m\u001b[1;33m=\u001b[0m\u001b[0mkind\u001b[0m\u001b[1;33m,\u001b[0m \u001b[1;33m**\u001b[0m\u001b[0mkwds\u001b[0m\u001b[1;33m)\u001b[0m\u001b[1;33m\u001b[0m\u001b[0m\n\u001b[0;32m   1693\u001b[0m \u001b[1;33m\u001b[0m\u001b[0m\n\u001b[1;32m-> 1694\u001b[1;33m     \u001b[0mplot_obj\u001b[0m\u001b[1;33m.\u001b[0m\u001b[0mgenerate\u001b[0m\u001b[1;33m(\u001b[0m\u001b[1;33m)\u001b[0m\u001b[1;33m\u001b[0m\u001b[0m\n\u001b[0m\u001b[0;32m   1695\u001b[0m     \u001b[0mplot_obj\u001b[0m\u001b[1;33m.\u001b[0m\u001b[0mdraw\u001b[0m\u001b[1;33m(\u001b[0m\u001b[1;33m)\u001b[0m\u001b[1;33m\u001b[0m\u001b[0m\n\u001b[0;32m   1696\u001b[0m     \u001b[1;32mreturn\u001b[0m \u001b[0mplot_obj\u001b[0m\u001b[1;33m.\u001b[0m\u001b[0mresult\u001b[0m\u001b[1;33m\u001b[0m\u001b[0m\n",
      "\u001b[1;32m~\\Anaconda3\\lib\\site-packages\\pandas\\plotting\\_core.py\u001b[0m in \u001b[0;36mgenerate\u001b[1;34m(self)\u001b[0m\n\u001b[0;32m    243\u001b[0m         \u001b[0mself\u001b[0m\u001b[1;33m.\u001b[0m\u001b[0m_compute_plot_data\u001b[0m\u001b[1;33m(\u001b[0m\u001b[1;33m)\u001b[0m\u001b[1;33m\u001b[0m\u001b[0m\n\u001b[0;32m    244\u001b[0m         \u001b[0mself\u001b[0m\u001b[1;33m.\u001b[0m\u001b[0m_setup_subplots\u001b[0m\u001b[1;33m(\u001b[0m\u001b[1;33m)\u001b[0m\u001b[1;33m\u001b[0m\u001b[0m\n\u001b[1;32m--> 245\u001b[1;33m         \u001b[0mself\u001b[0m\u001b[1;33m.\u001b[0m\u001b[0m_make_plot\u001b[0m\u001b[1;33m(\u001b[0m\u001b[1;33m)\u001b[0m\u001b[1;33m\u001b[0m\u001b[0m\n\u001b[0m\u001b[0;32m    246\u001b[0m         \u001b[0mself\u001b[0m\u001b[1;33m.\u001b[0m\u001b[0m_add_table\u001b[0m\u001b[1;33m(\u001b[0m\u001b[1;33m)\u001b[0m\u001b[1;33m\u001b[0m\u001b[0m\n\u001b[0;32m    247\u001b[0m         \u001b[0mself\u001b[0m\u001b[1;33m.\u001b[0m\u001b[0m_make_legend\u001b[0m\u001b[1;33m(\u001b[0m\u001b[1;33m)\u001b[0m\u001b[1;33m\u001b[0m\u001b[0m\n",
      "\u001b[1;32m~\\Anaconda3\\lib\\site-packages\\pandas\\plotting\\_core.py\u001b[0m in \u001b[0;36m_make_plot\u001b[1;34m(self)\u001b[0m\n\u001b[0;32m    948\u001b[0m                              \u001b[0mstacking_id\u001b[0m\u001b[1;33m=\u001b[0m\u001b[0mstacking_id\u001b[0m\u001b[1;33m,\u001b[0m\u001b[1;33m\u001b[0m\u001b[0m\n\u001b[0;32m    949\u001b[0m                              \u001b[0mis_errorbar\u001b[0m\u001b[1;33m=\u001b[0m\u001b[0mis_errorbar\u001b[0m\u001b[1;33m,\u001b[0m\u001b[1;33m\u001b[0m\u001b[0m\n\u001b[1;32m--> 950\u001b[1;33m                              **kwds)\n\u001b[0m\u001b[0;32m    951\u001b[0m             \u001b[0mself\u001b[0m\u001b[1;33m.\u001b[0m\u001b[0m_add_legend_handle\u001b[0m\u001b[1;33m(\u001b[0m\u001b[0mnewlines\u001b[0m\u001b[1;33m[\u001b[0m\u001b[1;36m0\u001b[0m\u001b[1;33m]\u001b[0m\u001b[1;33m,\u001b[0m \u001b[0mlabel\u001b[0m\u001b[1;33m,\u001b[0m \u001b[0mindex\u001b[0m\u001b[1;33m=\u001b[0m\u001b[0mi\u001b[0m\u001b[1;33m)\u001b[0m\u001b[1;33m\u001b[0m\u001b[0m\n\u001b[0;32m    952\u001b[0m \u001b[1;33m\u001b[0m\u001b[0m\n",
      "\u001b[1;32m~\\Anaconda3\\lib\\site-packages\\pandas\\plotting\\_core.py\u001b[0m in \u001b[0;36m_plot\u001b[1;34m(cls, ax, x, y, style, column_num, stacking_id, **kwds)\u001b[0m\n\u001b[0;32m    963\u001b[0m             \u001b[0mcls\u001b[0m\u001b[1;33m.\u001b[0m\u001b[0m_initialize_stacker\u001b[0m\u001b[1;33m(\u001b[0m\u001b[0max\u001b[0m\u001b[1;33m,\u001b[0m \u001b[0mstacking_id\u001b[0m\u001b[1;33m,\u001b[0m \u001b[0mlen\u001b[0m\u001b[1;33m(\u001b[0m\u001b[0my\u001b[0m\u001b[1;33m)\u001b[0m\u001b[1;33m)\u001b[0m\u001b[1;33m\u001b[0m\u001b[0m\n\u001b[0;32m    964\u001b[0m         \u001b[0my_values\u001b[0m \u001b[1;33m=\u001b[0m \u001b[0mcls\u001b[0m\u001b[1;33m.\u001b[0m\u001b[0m_get_stacked_values\u001b[0m\u001b[1;33m(\u001b[0m\u001b[0max\u001b[0m\u001b[1;33m,\u001b[0m \u001b[0mstacking_id\u001b[0m\u001b[1;33m,\u001b[0m \u001b[0my\u001b[0m\u001b[1;33m,\u001b[0m \u001b[0mkwds\u001b[0m\u001b[1;33m[\u001b[0m\u001b[1;34m'label'\u001b[0m\u001b[1;33m]\u001b[0m\u001b[1;33m)\u001b[0m\u001b[1;33m\u001b[0m\u001b[0m\n\u001b[1;32m--> 965\u001b[1;33m         \u001b[0mlines\u001b[0m \u001b[1;33m=\u001b[0m \u001b[0mMPLPlot\u001b[0m\u001b[1;33m.\u001b[0m\u001b[0m_plot\u001b[0m\u001b[1;33m(\u001b[0m\u001b[0max\u001b[0m\u001b[1;33m,\u001b[0m \u001b[0mx\u001b[0m\u001b[1;33m,\u001b[0m \u001b[0my_values\u001b[0m\u001b[1;33m,\u001b[0m \u001b[0mstyle\u001b[0m\u001b[1;33m=\u001b[0m\u001b[0mstyle\u001b[0m\u001b[1;33m,\u001b[0m \u001b[1;33m**\u001b[0m\u001b[0mkwds\u001b[0m\u001b[1;33m)\u001b[0m\u001b[1;33m\u001b[0m\u001b[0m\n\u001b[0m\u001b[0;32m    966\u001b[0m         \u001b[0mcls\u001b[0m\u001b[1;33m.\u001b[0m\u001b[0m_update_stacker\u001b[0m\u001b[1;33m(\u001b[0m\u001b[0max\u001b[0m\u001b[1;33m,\u001b[0m \u001b[0mstacking_id\u001b[0m\u001b[1;33m,\u001b[0m \u001b[0my\u001b[0m\u001b[1;33m)\u001b[0m\u001b[1;33m\u001b[0m\u001b[0m\n\u001b[0;32m    967\u001b[0m         \u001b[1;32mreturn\u001b[0m \u001b[0mlines\u001b[0m\u001b[1;33m\u001b[0m\u001b[0m\n",
      "\u001b[1;32m~\\Anaconda3\\lib\\site-packages\\pandas\\plotting\\_core.py\u001b[0m in \u001b[0;36m_plot\u001b[1;34m(cls, ax, x, y, style, is_errorbar, **kwds)\u001b[0m\n\u001b[0;32m    578\u001b[0m             \u001b[1;32melse\u001b[0m\u001b[1;33m:\u001b[0m\u001b[1;33m\u001b[0m\u001b[0m\n\u001b[0;32m    579\u001b[0m                 \u001b[0margs\u001b[0m \u001b[1;33m=\u001b[0m \u001b[1;33m(\u001b[0m\u001b[0mx\u001b[0m\u001b[1;33m,\u001b[0m \u001b[0my\u001b[0m\u001b[1;33m)\u001b[0m\u001b[1;33m\u001b[0m\u001b[0m\n\u001b[1;32m--> 580\u001b[1;33m             \u001b[1;32mreturn\u001b[0m \u001b[0max\u001b[0m\u001b[1;33m.\u001b[0m\u001b[0mplot\u001b[0m\u001b[1;33m(\u001b[0m\u001b[1;33m*\u001b[0m\u001b[0margs\u001b[0m\u001b[1;33m,\u001b[0m \u001b[1;33m**\u001b[0m\u001b[0mkwds\u001b[0m\u001b[1;33m)\u001b[0m\u001b[1;33m\u001b[0m\u001b[0m\n\u001b[0m\u001b[0;32m    581\u001b[0m \u001b[1;33m\u001b[0m\u001b[0m\n\u001b[0;32m    582\u001b[0m     \u001b[1;32mdef\u001b[0m \u001b[0m_get_index_name\u001b[0m\u001b[1;33m(\u001b[0m\u001b[0mself\u001b[0m\u001b[1;33m)\u001b[0m\u001b[1;33m:\u001b[0m\u001b[1;33m\u001b[0m\u001b[0m\n",
      "\u001b[1;32m~\\Anaconda3\\lib\\site-packages\\matplotlib\\__init__.py\u001b[0m in \u001b[0;36minner\u001b[1;34m(ax, *args, **kwargs)\u001b[0m\n\u001b[0;32m   1708\u001b[0m                     warnings.warn(msg % (label_namer, func.__name__),\n\u001b[0;32m   1709\u001b[0m                                   RuntimeWarning, stacklevel=2)\n\u001b[1;32m-> 1710\u001b[1;33m             \u001b[1;32mreturn\u001b[0m \u001b[0mfunc\u001b[0m\u001b[1;33m(\u001b[0m\u001b[0max\u001b[0m\u001b[1;33m,\u001b[0m \u001b[1;33m*\u001b[0m\u001b[0margs\u001b[0m\u001b[1;33m,\u001b[0m \u001b[1;33m**\u001b[0m\u001b[0mkwargs\u001b[0m\u001b[1;33m)\u001b[0m\u001b[1;33m\u001b[0m\u001b[0m\n\u001b[0m\u001b[0;32m   1711\u001b[0m         \u001b[0mpre_doc\u001b[0m \u001b[1;33m=\u001b[0m \u001b[0minner\u001b[0m\u001b[1;33m.\u001b[0m\u001b[0m__doc__\u001b[0m\u001b[1;33m\u001b[0m\u001b[0m\n\u001b[0;32m   1712\u001b[0m         \u001b[1;32mif\u001b[0m \u001b[0mpre_doc\u001b[0m \u001b[1;32mis\u001b[0m \u001b[1;32mNone\u001b[0m\u001b[1;33m:\u001b[0m\u001b[1;33m\u001b[0m\u001b[0m\n",
      "\u001b[1;32m~\\Anaconda3\\lib\\site-packages\\matplotlib\\axes\\_axes.py\u001b[0m in \u001b[0;36mplot\u001b[1;34m(self, *args, **kwargs)\u001b[0m\n\u001b[0;32m   1435\u001b[0m         \u001b[0mkwargs\u001b[0m \u001b[1;33m=\u001b[0m \u001b[0mcbook\u001b[0m\u001b[1;33m.\u001b[0m\u001b[0mnormalize_kwargs\u001b[0m\u001b[1;33m(\u001b[0m\u001b[0mkwargs\u001b[0m\u001b[1;33m,\u001b[0m \u001b[0m_alias_map\u001b[0m\u001b[1;33m)\u001b[0m\u001b[1;33m\u001b[0m\u001b[0m\n\u001b[0;32m   1436\u001b[0m \u001b[1;33m\u001b[0m\u001b[0m\n\u001b[1;32m-> 1437\u001b[1;33m         \u001b[1;32mfor\u001b[0m \u001b[0mline\u001b[0m \u001b[1;32min\u001b[0m \u001b[0mself\u001b[0m\u001b[1;33m.\u001b[0m\u001b[0m_get_lines\u001b[0m\u001b[1;33m(\u001b[0m\u001b[1;33m*\u001b[0m\u001b[0margs\u001b[0m\u001b[1;33m,\u001b[0m \u001b[1;33m**\u001b[0m\u001b[0mkwargs\u001b[0m\u001b[1;33m)\u001b[0m\u001b[1;33m:\u001b[0m\u001b[1;33m\u001b[0m\u001b[0m\n\u001b[0m\u001b[0;32m   1438\u001b[0m             \u001b[0mself\u001b[0m\u001b[1;33m.\u001b[0m\u001b[0madd_line\u001b[0m\u001b[1;33m(\u001b[0m\u001b[0mline\u001b[0m\u001b[1;33m)\u001b[0m\u001b[1;33m\u001b[0m\u001b[0m\n\u001b[0;32m   1439\u001b[0m             \u001b[0mlines\u001b[0m\u001b[1;33m.\u001b[0m\u001b[0mappend\u001b[0m\u001b[1;33m(\u001b[0m\u001b[0mline\u001b[0m\u001b[1;33m)\u001b[0m\u001b[1;33m\u001b[0m\u001b[0m\n",
      "\u001b[1;32m~\\Anaconda3\\lib\\site-packages\\matplotlib\\axes\\_base.py\u001b[0m in \u001b[0;36m_grab_next_args\u001b[1;34m(self, *args, **kwargs)\u001b[0m\n\u001b[0;32m    402\u001b[0m                 \u001b[0mthis\u001b[0m \u001b[1;33m+=\u001b[0m \u001b[0margs\u001b[0m\u001b[1;33m[\u001b[0m\u001b[1;36m0\u001b[0m\u001b[1;33m]\u001b[0m\u001b[1;33m,\u001b[0m\u001b[1;33m\u001b[0m\u001b[0m\n\u001b[0;32m    403\u001b[0m                 \u001b[0margs\u001b[0m \u001b[1;33m=\u001b[0m \u001b[0margs\u001b[0m\u001b[1;33m[\u001b[0m\u001b[1;36m1\u001b[0m\u001b[1;33m:\u001b[0m\u001b[1;33m]\u001b[0m\u001b[1;33m\u001b[0m\u001b[0m\n\u001b[1;32m--> 404\u001b[1;33m             \u001b[1;32mfor\u001b[0m \u001b[0mseg\u001b[0m \u001b[1;32min\u001b[0m \u001b[0mself\u001b[0m\u001b[1;33m.\u001b[0m\u001b[0m_plot_args\u001b[0m\u001b[1;33m(\u001b[0m\u001b[0mthis\u001b[0m\u001b[1;33m,\u001b[0m \u001b[0mkwargs\u001b[0m\u001b[1;33m)\u001b[0m\u001b[1;33m:\u001b[0m\u001b[1;33m\u001b[0m\u001b[0m\n\u001b[0m\u001b[0;32m    405\u001b[0m                 \u001b[1;32myield\u001b[0m \u001b[0mseg\u001b[0m\u001b[1;33m\u001b[0m\u001b[0m\n\u001b[0;32m    406\u001b[0m \u001b[1;33m\u001b[0m\u001b[0m\n",
      "\u001b[1;32m~\\Anaconda3\\lib\\site-packages\\matplotlib\\axes\\_base.py\u001b[0m in \u001b[0;36m_plot_args\u001b[1;34m(self, tup, kwargs)\u001b[0m\n\u001b[0;32m    392\u001b[0m         \u001b[0mncx\u001b[0m\u001b[1;33m,\u001b[0m \u001b[0mncy\u001b[0m \u001b[1;33m=\u001b[0m \u001b[0mx\u001b[0m\u001b[1;33m.\u001b[0m\u001b[0mshape\u001b[0m\u001b[1;33m[\u001b[0m\u001b[1;36m1\u001b[0m\u001b[1;33m]\u001b[0m\u001b[1;33m,\u001b[0m \u001b[0my\u001b[0m\u001b[1;33m.\u001b[0m\u001b[0mshape\u001b[0m\u001b[1;33m[\u001b[0m\u001b[1;36m1\u001b[0m\u001b[1;33m]\u001b[0m\u001b[1;33m\u001b[0m\u001b[0m\n\u001b[0;32m    393\u001b[0m         \u001b[1;32mfor\u001b[0m \u001b[0mj\u001b[0m \u001b[1;32min\u001b[0m \u001b[0mxrange\u001b[0m\u001b[1;33m(\u001b[0m\u001b[0mmax\u001b[0m\u001b[1;33m(\u001b[0m\u001b[0mncx\u001b[0m\u001b[1;33m,\u001b[0m \u001b[0mncy\u001b[0m\u001b[1;33m)\u001b[0m\u001b[1;33m)\u001b[0m\u001b[1;33m:\u001b[0m\u001b[1;33m\u001b[0m\u001b[0m\n\u001b[1;32m--> 394\u001b[1;33m             \u001b[0mseg\u001b[0m \u001b[1;33m=\u001b[0m \u001b[0mfunc\u001b[0m\u001b[1;33m(\u001b[0m\u001b[0mx\u001b[0m\u001b[1;33m[\u001b[0m\u001b[1;33m:\u001b[0m\u001b[1;33m,\u001b[0m \u001b[0mj\u001b[0m \u001b[1;33m%\u001b[0m \u001b[0mncx\u001b[0m\u001b[1;33m]\u001b[0m\u001b[1;33m,\u001b[0m \u001b[0my\u001b[0m\u001b[1;33m[\u001b[0m\u001b[1;33m:\u001b[0m\u001b[1;33m,\u001b[0m \u001b[0mj\u001b[0m \u001b[1;33m%\u001b[0m \u001b[0mncy\u001b[0m\u001b[1;33m]\u001b[0m\u001b[1;33m,\u001b[0m \u001b[0mkw\u001b[0m\u001b[1;33m,\u001b[0m \u001b[0mkwargs\u001b[0m\u001b[1;33m)\u001b[0m\u001b[1;33m\u001b[0m\u001b[0m\n\u001b[0m\u001b[0;32m    395\u001b[0m             \u001b[0mret\u001b[0m\u001b[1;33m.\u001b[0m\u001b[0mappend\u001b[0m\u001b[1;33m(\u001b[0m\u001b[0mseg\u001b[0m\u001b[1;33m)\u001b[0m\u001b[1;33m\u001b[0m\u001b[0m\n\u001b[0;32m    396\u001b[0m         \u001b[1;32mreturn\u001b[0m \u001b[0mret\u001b[0m\u001b[1;33m\u001b[0m\u001b[0m\n",
      "\u001b[1;32m~\\Anaconda3\\lib\\site-packages\\matplotlib\\axes\\_base.py\u001b[0m in \u001b[0;36m_makeline\u001b[1;34m(self, x, y, kw, kwargs)\u001b[0m\n\u001b[0;32m    299\u001b[0m         \u001b[0mdefault_dict\u001b[0m \u001b[1;33m=\u001b[0m \u001b[0mself\u001b[0m\u001b[1;33m.\u001b[0m\u001b[0m_getdefaults\u001b[0m\u001b[1;33m(\u001b[0m\u001b[1;32mNone\u001b[0m\u001b[1;33m,\u001b[0m \u001b[0mkw\u001b[0m\u001b[1;33m)\u001b[0m\u001b[1;33m\u001b[0m\u001b[0m\n\u001b[0;32m    300\u001b[0m         \u001b[0mself\u001b[0m\u001b[1;33m.\u001b[0m\u001b[0m_setdefaults\u001b[0m\u001b[1;33m(\u001b[0m\u001b[0mdefault_dict\u001b[0m\u001b[1;33m,\u001b[0m \u001b[0mkw\u001b[0m\u001b[1;33m)\u001b[0m\u001b[1;33m\u001b[0m\u001b[0m\n\u001b[1;32m--> 301\u001b[1;33m         \u001b[0mseg\u001b[0m \u001b[1;33m=\u001b[0m \u001b[0mmlines\u001b[0m\u001b[1;33m.\u001b[0m\u001b[0mLine2D\u001b[0m\u001b[1;33m(\u001b[0m\u001b[0mx\u001b[0m\u001b[1;33m,\u001b[0m \u001b[0my\u001b[0m\u001b[1;33m,\u001b[0m \u001b[1;33m**\u001b[0m\u001b[0mkw\u001b[0m\u001b[1;33m)\u001b[0m\u001b[1;33m\u001b[0m\u001b[0m\n\u001b[0m\u001b[0;32m    302\u001b[0m         \u001b[1;32mreturn\u001b[0m \u001b[0mseg\u001b[0m\u001b[1;33m\u001b[0m\u001b[0m\n\u001b[0;32m    303\u001b[0m \u001b[1;33m\u001b[0m\u001b[0m\n",
      "\u001b[1;32m~\\Anaconda3\\lib\\site-packages\\matplotlib\\lines.py\u001b[0m in \u001b[0;36m__init__\u001b[1;34m(self, xdata, ydata, linewidth, linestyle, color, marker, markersize, markeredgewidth, markeredgecolor, markerfacecolor, markerfacecoloralt, fillstyle, antialiased, dash_capstyle, solid_capstyle, dash_joinstyle, solid_joinstyle, pickradius, drawstyle, markevery, **kwargs)\u001b[0m\n\u001b[0;32m    424\u001b[0m         \u001b[1;31m# update kwargs before updating data to give the caller a\u001b[0m\u001b[1;33m\u001b[0m\u001b[1;33m\u001b[0m\u001b[0m\n\u001b[0;32m    425\u001b[0m         \u001b[1;31m# chance to init axes (and hence unit support)\u001b[0m\u001b[1;33m\u001b[0m\u001b[1;33m\u001b[0m\u001b[0m\n\u001b[1;32m--> 426\u001b[1;33m         \u001b[0mself\u001b[0m\u001b[1;33m.\u001b[0m\u001b[0mupdate\u001b[0m\u001b[1;33m(\u001b[0m\u001b[0mkwargs\u001b[0m\u001b[1;33m)\u001b[0m\u001b[1;33m\u001b[0m\u001b[0m\n\u001b[0m\u001b[0;32m    427\u001b[0m         \u001b[0mself\u001b[0m\u001b[1;33m.\u001b[0m\u001b[0mpickradius\u001b[0m \u001b[1;33m=\u001b[0m \u001b[0mpickradius\u001b[0m\u001b[1;33m\u001b[0m\u001b[0m\n\u001b[0;32m    428\u001b[0m         \u001b[0mself\u001b[0m\u001b[1;33m.\u001b[0m\u001b[0mind_offset\u001b[0m \u001b[1;33m=\u001b[0m \u001b[1;36m0\u001b[0m\u001b[1;33m\u001b[0m\u001b[0m\n",
      "\u001b[1;32m~\\Anaconda3\\lib\\site-packages\\matplotlib\\artist.py\u001b[0m in \u001b[0;36mupdate\u001b[1;34m(self, props)\u001b[0m\n\u001b[0;32m    845\u001b[0m         \u001b[1;32mtry\u001b[0m\u001b[1;33m:\u001b[0m\u001b[1;33m\u001b[0m\u001b[0m\n\u001b[0;32m    846\u001b[0m             ret = [_update_property(self, k, v)\n\u001b[1;32m--> 847\u001b[1;33m                    for k, v in props.items()]\n\u001b[0m\u001b[0;32m    848\u001b[0m         \u001b[1;32mfinally\u001b[0m\u001b[1;33m:\u001b[0m\u001b[1;33m\u001b[0m\u001b[0m\n\u001b[0;32m    849\u001b[0m             \u001b[0mself\u001b[0m\u001b[1;33m.\u001b[0m\u001b[0meventson\u001b[0m \u001b[1;33m=\u001b[0m \u001b[0mstore\u001b[0m\u001b[1;33m\u001b[0m\u001b[0m\n",
      "\u001b[1;32m~\\Anaconda3\\lib\\site-packages\\matplotlib\\artist.py\u001b[0m in \u001b[0;36m<listcomp>\u001b[1;34m(.0)\u001b[0m\n\u001b[0;32m    845\u001b[0m         \u001b[1;32mtry\u001b[0m\u001b[1;33m:\u001b[0m\u001b[1;33m\u001b[0m\u001b[0m\n\u001b[0;32m    846\u001b[0m             ret = [_update_property(self, k, v)\n\u001b[1;32m--> 847\u001b[1;33m                    for k, v in props.items()]\n\u001b[0m\u001b[0;32m    848\u001b[0m         \u001b[1;32mfinally\u001b[0m\u001b[1;33m:\u001b[0m\u001b[1;33m\u001b[0m\u001b[0m\n\u001b[0;32m    849\u001b[0m             \u001b[0mself\u001b[0m\u001b[1;33m.\u001b[0m\u001b[0meventson\u001b[0m \u001b[1;33m=\u001b[0m \u001b[0mstore\u001b[0m\u001b[1;33m\u001b[0m\u001b[0m\n",
      "\u001b[1;32m~\\Anaconda3\\lib\\site-packages\\matplotlib\\artist.py\u001b[0m in \u001b[0;36m_update_property\u001b[1;34m(self, k, v)\u001b[0m\n\u001b[0;32m    838\u001b[0m                 \u001b[0mfunc\u001b[0m \u001b[1;33m=\u001b[0m \u001b[0mgetattr\u001b[0m\u001b[1;33m(\u001b[0m\u001b[0mself\u001b[0m\u001b[1;33m,\u001b[0m \u001b[1;34m'set_'\u001b[0m \u001b[1;33m+\u001b[0m \u001b[0mk\u001b[0m\u001b[1;33m,\u001b[0m \u001b[1;32mNone\u001b[0m\u001b[1;33m)\u001b[0m\u001b[1;33m\u001b[0m\u001b[0m\n\u001b[0;32m    839\u001b[0m                 \u001b[1;32mif\u001b[0m \u001b[1;32mnot\u001b[0m \u001b[0mcallable\u001b[0m\u001b[1;33m(\u001b[0m\u001b[0mfunc\u001b[0m\u001b[1;33m)\u001b[0m\u001b[1;33m:\u001b[0m\u001b[1;33m\u001b[0m\u001b[0m\n\u001b[1;32m--> 840\u001b[1;33m                     \u001b[1;32mraise\u001b[0m \u001b[0mAttributeError\u001b[0m\u001b[1;33m(\u001b[0m\u001b[1;34m'Unknown property %s'\u001b[0m \u001b[1;33m%\u001b[0m \u001b[0mk\u001b[0m\u001b[1;33m)\u001b[0m\u001b[1;33m\u001b[0m\u001b[0m\n\u001b[0m\u001b[0;32m    841\u001b[0m                 \u001b[1;32mreturn\u001b[0m \u001b[0mfunc\u001b[0m\u001b[1;33m(\u001b[0m\u001b[0mv\u001b[0m\u001b[1;33m)\u001b[0m\u001b[1;33m\u001b[0m\u001b[0m\n\u001b[0;32m    842\u001b[0m \u001b[1;33m\u001b[0m\u001b[0m\n",
      "\u001b[1;31mAttributeError\u001b[0m: Unknown property column"
     ]
    },
    {
     "data": {
      "image/png": "[encoded data removed]",
      "text/plain": [
       "<matplotlib.figure.Figure at 0x13711bbc668>"
      ]
     },
     "metadata": {},
     "output_type": "display_data"
    }
   ],
   "source": [
    "import matplotlib.pyplot as plt\n",
    "\n",
    "base = uszipMap.plot(color='gray',figsize=(20,13))\n",
    "\n",
    "topLayer=mapdata.plot(ax=base,column='Fatality_rate_per_100_million_VMT_2015',cmap='YlGnBu',scheme='Quantiles',k=5,legend=True,\n",
    "                  legend_kwds={'loc': 3,'title':'Fatality Rate'})\n",
    "topLayer.set_title('Crash Fatality Rate by State', \n",
    "                   color='black',fontdict={'fontsize':30})\n",
    "leg = topLayer.get_legend()\n",
    "plt.setp(leg.get_title(), multialignment='center')\n",
    "plt.show()"
   ]
  },
  {
   "cell_type": "markdown",
   "metadata": {},
   "source": [
    "Unfortunately, this error arises when trying to produce a map."
   ]
  }
 ],
 "metadata": {
  "kernelspec": {
   "display_name": "Python 3",
   "language": "python",
   "name": "python3"
  },
  "language_info": {
   "codemirror_mode": {
    "name": "ipython",
    "version": 3
   },
   "file_extension": ".py",
   "mimetype": "text/x-python",
   "name": "python",
   "nbconvert_exporter": "python",
   "pygments_lexer": "ipython3",
   "version": "3.6.3"
  }
 },
 "nbformat": 4,
 "nbformat_minor": 2
}
